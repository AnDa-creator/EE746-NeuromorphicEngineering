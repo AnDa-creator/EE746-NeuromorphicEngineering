{
  "nbformat": 4,
  "nbformat_minor": 0,
  "metadata": {
    "colab": {
      "name": "SpeechPreprocessing.ipynb",
      "provenance": [],
      "collapsed_sections": []
    },
    "kernelspec": {
      "display_name": "Python 3",
      "name": "python3"
    },
    "language_info": {
      "name": "python"
    }
  },
  "cells": [
    {
      "cell_type": "code",
      "metadata": {
        "colab": {
          "base_uri": "https://localhost:8080/"
        },
        "id": "thYb5YrML4GZ",
        "outputId": "09bd9960-3e51-44e9-b859-495f74c23cc0"
      },
      "source": [
        "!sudo apt-get install check\n",
        "!pip install lyon\n",
        "\n",
        "import wave\n",
        "\n",
        "from lyon.calc import LyonCalc"
      ],
      "execution_count": 23,
      "outputs": [
        {
          "output_type": "stream",
          "name": "stdout",
          "text": [
            "Reading package lists... Done\n",
            "Building dependency tree       \n",
            "Reading state information... Done\n",
            "check is already the newest version (0.10.0-3build2).\n",
            "0 upgraded, 0 newly installed, 0 to remove and 37 not upgraded.\n",
            "Requirement already satisfied: lyon in /usr/local/lib/python3.7/dist-packages (1.0.0)\n",
            "Requirement already satisfied: numpy in /usr/local/lib/python3.7/dist-packages (from lyon) (1.19.5)\n"
          ]
        }
      ]
    },
    {
      "cell_type": "code",
      "metadata": {
        "id": "89VU54jd0umt"
      },
      "source": [
        "# Read file to get buffer\n",
        "ifile = wave.open(\"pzm12.wav\")\n",
        "\n",
        "sample_rate = ifile.getframerate()\n",
        "\n",
        "samples = ifile.getnframes()\n",
        "audio = ifile.readframes(samples)\n",
        "\n",
        "# Convert buffer to float32 using NumPy                                                                                 \n",
        "audio_as_np_int16 = np.frombuffer(audio, dtype=np.int16)\n",
        "audio_as_np_float64 = audio_as_np_int16.astype(np.float64)\n",
        "\n",
        "# Normalise float64 array so that values are between -1.0 and +1.0                                                      \n",
        "max_int16 = 2**15\n",
        "audio_normalised = audio_as_np_float64 / max_int16"
      ],
      "execution_count": 24,
      "outputs": []
    },
    {
      "cell_type": "code",
      "metadata": {
        "colab": {
          "base_uri": "https://localhost:8080/"
        },
        "id": "FYyFwYk86ux7",
        "outputId": "84689ad2-f28f-4d87-cc0f-7576e4bca1ae"
      },
      "source": [
        "audio_normalised.shape"
      ],
      "execution_count": 25,
      "outputs": [
        {
          "output_type": "execute_result",
          "data": {
            "text/plain": [
              "(9600000,)"
            ]
          },
          "metadata": {},
          "execution_count": 25
        }
      ]
    },
    {
      "cell_type": "code",
      "metadata": {
        "colab": {
          "base_uri": "https://localhost:8080/"
        },
        "id": "MIt2XVtNx_Kd",
        "outputId": "c2d43969-9af0-49e6-bed0-51288a72d1cd"
      },
      "source": [
        "calc = LyonCalc()\n",
        "decimation_factor = 64\n",
        "coch = calc.lyon_passive_ear(audio_normalised, sample_rate, decimation_factor)\n",
        "print(coch.shape)"
      ],
      "execution_count": 26,
      "outputs": [
        {
          "output_type": "stream",
          "name": "stdout",
          "text": [
            "(150000, 86)\n"
          ]
        }
      ]
    },
    {
      "cell_type": "code",
      "metadata": {
        "id": "TtO4wn3p3ARb"
      },
      "source": [
        "np.savetxt('array.csv', coch, delimiter=',')"
      ],
      "execution_count": 22,
      "outputs": []
    }
  ]
}