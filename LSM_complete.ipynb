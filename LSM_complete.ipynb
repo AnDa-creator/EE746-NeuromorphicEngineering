{
 "cells": [
  {
   "cell_type": "code",
   "execution_count": 1,
   "metadata": {
    "ExecuteTime": {
     "end_time": "2021-10-22T06:10:11.382568Z",
     "start_time": "2021-10-22T06:10:10.880432Z"
    },
    "colab": {
     "base_uri": "https://localhost:8080/"
    },
    "id": "rcdI748AEYa8",
    "outputId": "c4fc5cc7-78d6-4127-8ce0-2e3548942304"
   },
   "outputs": [],
   "source": [
    "#!/usr/bin/python3\n",
    "# import tensorflow as tf\n",
    "import numpy as np\n",
    "from math import exp\n",
    "from numpy.random import binomial\n",
    "from random import shuffle\n",
    "from random import seed\n",
    "import pandas as pd\n",
    "\n",
    "# print(\"Num GPUs Available: \", len(tf.config.list_physical_devices('GPU')))\n",
    "\n",
    "import CompactLSM\n",
    "\n",
    "seed(4) # for replicating results"
   ]
  },
  {
   "cell_type": "code",
   "execution_count": 2,
   "metadata": {
    "ExecuteTime": {
     "end_time": "2021-10-22T06:10:11.413176Z",
     "start_time": "2021-10-22T06:10:11.384575Z"
    }
   },
   "outputs": [
    {
     "name": "stdout",
     "output_type": "stream",
     "text": [
      "Input neurons = 78\n",
      "Size of Reservoir = 5 X 5 X 5 ,Total total neurons = 125\n",
      "Total no.of read out neurons = 10\n"
     ]
    }
   ],
   "source": [
    "# reading data and defining no.of input neurons, reservoir size, readout neurons\n",
    "data = pd.read_csv('PreProcessing/PreProcessedData.csv', sep=\",\", header=None)\n",
    "data_as_numpy = data.to_numpy()\n",
    "input = data_as_numpy.transpose()   # Single Sample input\n",
    "(L,M) = input.shape\n",
    "# L, M = 77, 100\n",
    "# input = np.ones([L, M])\n",
    "# reservoir shape and no.of neurons\n",
    "nx = 5\n",
    "ny = 5\n",
    "nz = 5\n",
    "N = nx*ny*nz\n",
    "\n",
    "N_read = 10                                           # No. of Readout neurons\n",
    "print(\"Input neurons =\",L)\n",
    "print(\"Size of Reservoir =\",nx,\"X\",ny,\"X\",nz,\",Total total neurons =\",N)\n",
    "print(\"Total no.of read out neurons =\",N_read)\n",
    "# print(input [1,])"
   ]
  },
  {
   "cell_type": "code",
   "execution_count": 3,
   "metadata": {
    "ExecuteTime": {
     "end_time": "2021-10-22T06:10:11.428512Z",
     "start_time": "2021-10-22T06:10:11.415180Z"
    }
   },
   "outputs": [],
   "source": [
    "global vrest, vth, t_refrac\n",
    "vrest, vth, t_refrac = 0, 20, 2\n",
    "\n",
    "tau_m = 32\n",
    "params_potential = {'C':1, 'g_L':1/tau_m, 'E_L':vrest, 'V_T':vth, 'R_p':t_refrac}\n",
    "\n",
    "Delay = 1 #constant delay for all synapses in ms\n",
    "\n",
    "tau_c = 64\n",
    "C_theta = 5\n",
    "del_C = 3\n",
    "n_bits = 3\n",
    "delta_c = 1\n",
    "params_conc = {'C_theta':C_theta, 'del_C':del_C, 'tau_c':64, 'nbits':n_bits, 'delta_c':delta_c}\n",
    "\n",
    "sampling_freq = 12.5 # in khz\n",
    "h = 1/sampling_freq # in ms"
   ]
  },
  {
   "cell_type": "markdown",
   "metadata": {},
   "source": [
    "### Finding input neurons to reservoir current and then using the spike train to find the current input to the reservoir"
   ]
  },
  {
   "cell_type": "code",
   "execution_count": 4,
   "metadata": {
    "ExecuteTime": {
     "end_time": "2021-10-22T06:10:11.459798Z",
     "start_time": "2021-10-22T06:10:11.430517Z"
    }
   },
   "outputs": [],
   "source": [
    "## Connection from input neurons to reservoir\n",
    "W_in_res = np.zeros((L,N)) # (i,j) entry is the weight of synapse from ith input to jth neuron in reservoir \n",
    "W_in = 8\n",
    "Fin = 4 # no. of neurons a single input neuron is connected to\n",
    "\n",
    "connection_in_res = np.zeros((L,Fin),dtype=np.int64) # stores the id of reservoir neurons\n",
    "\n",
    "reservoir_ID = np.array([i for i in range(N)])\n",
    "\n",
    "for i in range(L):\n",
    "    shuffle(reservoir_ID)\n",
    "    for j in range(Fin):\n",
    "        sign_W_in = (binomial(1,1/2) - 0.5)*2\n",
    "        W_in_res[i,reservoir_ID[j]] = sign_W_in*W_in\n",
    "        connection_in_res[i,j] = reservoir_ID[j]\n"
   ]
  },
  {
   "cell_type": "code",
   "execution_count": 5,
   "metadata": {
    "ExecuteTime": {
     "end_time": "2021-10-22T06:10:11.853969Z",
     "start_time": "2021-10-22T06:10:11.460802Z"
    }
   },
   "outputs": [],
   "source": [
    "## Current input to the reservoir from the input neurons\n",
    "In_neurons = input   # spike train of L input neurons, over M timesteps, 1 if spike, 0 if no spike\n",
    "# print(In_neurons)\n",
    "In_app = np.zeros((N,M),dtype=np.float64)    # input current to the reservoir.\n",
    "\n",
    "time = np.array([j*h for j in range(M)],dtype=np.float64)\n",
    "\n",
    "syn_string = \"first-order\"\n",
    "\n",
    "for t in range(M):\n",
    "    for i in range(L):\n",
    "        if int(In_neurons[i,t]) == 1:\n",
    "            for j in range(Fin):\n",
    "                n_ID = connection_in_res[i,j]\n",
    "                w_ij = W_in_res[i,n_ID]\n",
    "                updates = CompactLSM.syn_res(syn_string,1,t,time,i,n_ID,w_ij,Delay,h,M)\n",
    "#                 print(updates)\n",
    "                indices = [[n_ID,k] for k in range(M)]\n",
    "                \n",
    "                In_app[n_ID,:] += updates\n",
    "#     print(\"In_app\", In_app[n_ID,:])\n",
    "\n",
    "# In_app is given as input to the reservoir\n",
    "# print(connection_in_res)\n",
    "# for i in range(N): print(str(i), In_app[i,]) "
   ]
  },
  {
   "cell_type": "code",
   "execution_count": 6,
   "metadata": {
    "ExecuteTime": {
     "end_time": "2021-10-22T06:10:11.995694Z",
     "start_time": "2021-10-22T06:10:11.855973Z"
    }
   },
   "outputs": [],
   "source": [
    "# Storing the IDs of the neurons\n",
    "LSM_ID = np.zeros((nx,ny,nz),dtype=np.int64)\n",
    "l = 0\n",
    "for i in range(nx):\n",
    "    for j in range(ny):\n",
    "        for k in range(nz):\n",
    "            LSM_ID[i,j,k] = l\n",
    "            l = l + 1\n",
    "\n",
    "# Storing the synapse connections, and creating the initial weight matrix\n",
    "seed(1)\n",
    "k_prob = [0.45, 0.3, 0.6, 0.15]\n",
    "r_sq = 2**2\n",
    "\n",
    "W_arr = [3, 6, -2, -2]\n",
    "W_init = 3\n",
    "Weights_temp = np.zeros((N,N))\n",
    "\n",
    "N_in = int(N*0.8)\n",
    "neuron_type = [ int(i<N_in) for i in range(N)]\n",
    "shuffle(neuron_type) # 1 for excitatory, 0 for inhibitory\n",
    "\n",
    "synapes = [dict() for i in range(N)]    # an array of dictonaries which store the location of neuron, type of neuron, and the IDs of the neurons it is connected to\n",
    "\n",
    "for l in range(N):\n",
    "    loc = CompactLSM.ID_to_ind(nx,ny,nz,l)\n",
    "    n_type = neuron_type[l]\n",
    "    cons = []\n",
    "    for i in range(nx):\n",
    "        for j in range(ny):\n",
    "            for k in range(nz):\n",
    "                if l != int(LSM_ID[i,j,k]):\n",
    "                    dist_sq = (loc[0]-i)**2 + (loc[1]-j)**2 + (loc[2]-k)**2\n",
    "                    k_probl = 0\n",
    "                    if n_type == 1:\n",
    "                      if neuron_type[int(LSM_ID[i,j,k])] == 1:\n",
    "                        k_probl = k_prob[0]\n",
    "                        W_init = W_arr[0]\n",
    "                      else:\n",
    "                        k_probl = k_prob[1]\n",
    "                        W_init = W_arr[1]\n",
    "                    else:\n",
    "                      if neuron_type[int(LSM_ID[i,j,k])] == 1:\n",
    "                        k_probl = k_prob[2]\n",
    "                        W_init = W_arr[2]\n",
    "                      else:\n",
    "                        k_probl = k_prob[3]\n",
    "                        W_init = W_arr[3]\n",
    "\n",
    "                    probability = k_probl* exp(-1*dist_sq/r_sq)\n",
    "#                     print(probability)\n",
    "                    check = binomial(1,probability)\n",
    "                    if check == 1:\n",
    "                        cons.append(int(LSM_ID[i,j,k]))\n",
    "                        Weights_temp[l,int(LSM_ID[i,j,k])] = W_init    \n",
    "    synapes[l] = {\"Location\":loc, \"Neuron_type\":n_type, \"connections\":cons}\n",
    "\n",
    "global Weights\n",
    "Weights = Weights_temp\n",
    "# Weights[12,]"
   ]
  },
  {
   "cell_type": "markdown",
   "metadata": {},
   "source": [
    "### solving the reservoir"
   ]
  },
  {
   "cell_type": "code",
   "execution_count": 7,
   "metadata": {
    "ExecuteTime": {
     "end_time": "2021-10-22T06:10:12.103704Z",
     "start_time": "2021-10-22T06:10:11.996696Z"
    }
   },
   "outputs": [],
   "source": [
    "# from CompactLSM import reservoir_solver\n",
    "[Reservoir_potential, Reservoir_Spikes] = CompactLSM.reservoir_solver(N, Delay, synapes, M, h, In_app, params_potential, Weights, syn_string)"
   ]
  },
  {
   "cell_type": "code",
   "execution_count": 8,
   "metadata": {
    "ExecuteTime": {
     "end_time": "2021-10-22T06:10:12.118810Z",
     "start_time": "2021-10-22T06:10:12.105706Z"
    }
   },
   "outputs": [],
   "source": [
    "All_labels = [str(x) for x in range(10)]\n",
    "# N_read = 10                                           # No. of Readout neurons\n",
    "W_init_read = 1                                       # Initial weight, equal for all, update with learning\n",
    "Weights_temp_readOut = W_init_read*np.ones((N_read, N), dtype='float')\n",
    "\n",
    "\n",
    "synapes_read = []        # an array of dictonaries which store the label of neuron, \n",
    "                                                      # and the IDs of the neurons it is connected to\n",
    "\n",
    "for l in range(N_read):\n",
    "    label = All_labels[l]\n",
    "    synapes_read.append(label)\n",
    "\n",
    "Weights_readOut = Weights_temp_readOut"
   ]
  },
  {
   "cell_type": "code",
   "execution_count": 9,
   "metadata": {
    "ExecuteTime": {
     "end_time": "2021-10-22T06:10:15.134458Z",
     "start_time": "2021-10-22T06:10:12.119813Z"
    }
   },
   "outputs": [
    {
     "data": {
      "image/png": "[encoded data removed]",
      "text/plain": [
       "<Figure size 720x360 with 1 Axes>"
      ]
     },
     "metadata": {
      "needs_background": "light"
     },
     "output_type": "display_data"
    }
   ],
   "source": [
    "import matplotlib.pyplot as plt\n",
    "import matplotlib\n",
    "from matplotlib import rc\n",
    "matplotlib.rcParams['text.usetex'] = True\n",
    "plt.rcParams['figure.figsize'] = [10,5]\n",
    "# print(time)\n",
    "plt.plot(0, 0)\n",
    "for i in range(N):\n",
    "    for j in range(M):\n",
    "        if(Reservoir_Spikes[i,j] == 1):\n",
    "            x1 = [i-0.5 , i+0.5]\n",
    "            x2 = [time[j],time[j]]\n",
    "            plt.plot(x2,x1,color = 'blue')\n",
    "plt.show()\n"
   ]
  },
  {
   "cell_type": "code",
   "execution_count": 12,
   "metadata": {
    "ExecuteTime": {
     "end_time": "2021-10-22T06:10:29.779388Z",
     "start_time": "2021-10-22T06:10:29.697386Z"
    }
   },
   "outputs": [
    {
     "name": "stdout",
     "output_type": "stream",
     "text": [
      "[3. 3. 8. 3. 3. 3. 3. 3. 3. 3.]\n",
      "Predicted Class is 2\n"
     ]
    }
   ],
   "source": [
    "Readout_potential, Readout_Spikes, trained_weights = CompactLSM.readOut_response(N_read,N, Delay, synapes, M, h, \n",
    "                                                                                 Reservoir_Spikes, params_potential,\n",
    "                                                                                 params_conc, Weights_readOut, \n",
    "                                                                                 syn_string, training=True, \n",
    "                                                                                 train_ids=[2])\n",
    "\n",
    "class_out_label, class_out_idx= CompactLSM.classifier(Readout_Spikes,synapes_read)\n",
    "Choosen_class_weight = trained_weights[class_out_idx]\n",
    "print(\"Predicted Class is\",class_out_label)"
   ]
  },
  {
   "cell_type": "code",
   "execution_count": 13,
   "metadata": {
    "ExecuteTime": {
     "end_time": "2021-10-22T06:10:32.190942Z",
     "start_time": "2021-10-22T06:10:32.172944Z"
    }
   },
   "outputs": [
    {
     "name": "stdout",
     "output_type": "stream",
     "text": [
      "[1.     1.     1.     1.     1.     1.     1.     1.     1.     1.\n",
      " 1.     1.     1.     1.     1.     1.     1.     1.     1.     1.\n",
      " 1.     1.     1.     1.     1.     1.     1.     0.9999 1.     1.\n",
      " 1.     1.     1.     1.     1.     1.     1.     1.     1.     0.9999\n",
      " 1.     1.     1.     1.     1.     1.     1.     1.     1.     1.\n",
      " 1.     1.     1.     1.     1.     1.     0.9999 1.     1.     1.\n",
      " 1.0001 1.     1.     1.     1.     1.     1.     1.     1.     1.\n",
      " 0.9999 1.     1.     1.     1.     1.     1.     1.     1.     0.9999\n",
      " 1.     1.     1.     1.     1.     1.     1.     1.     1.     1.\n",
      " 1.     1.     1.     1.     1.     1.     1.     1.     1.     1.\n",
      " 1.     0.9998 1.     1.     1.     1.     1.     1.     1.     1.\n",
      " 1.     1.     1.     0.9999 1.     1.     1.     1.     1.     1.\n",
      " 1.     1.     1.     1.     1.    ]\n"
     ]
    }
   ],
   "source": [
    "print(Choosen_class_weight)"
   ]
  },
  {
   "cell_type": "code",
   "execution_count": null,
   "metadata": {},
   "outputs": [],
   "source": []
  }
 ],
 "metadata": {
  "interpreter": {
   "hash": "cb34221c29cbd393528f59737984b7cee90fecb74dfd32a425a37477f31f3c8a"
  },
  "kernelspec": {
   "display_name": "Python 3 (ipykernel)",
   "language": "python",
   "name": "python3"
  },
  "language_info": {
   "codemirror_mode": {
    "name": "ipython",
    "version": 3
   },
   "file_extension": ".py",
   "mimetype": "text/x-python",
   "name": "python",
   "nbconvert_exporter": "python",
   "pygments_lexer": "ipython3",
   "version": "3.7.10"
  }
 },
 "nbformat": 4,
 "nbformat_minor": 2
}
