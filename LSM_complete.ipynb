{
 "cells": [
  {
   "cell_type": "code",
   "execution_count": 1,
   "metadata": {
    "ExecuteTime": {
     "end_time": "2021-10-23T14:00:02.338891Z",
     "start_time": "2021-10-23T14:00:02.319890Z"
    },
    "colab": {
     "base_uri": "https://localhost:8080/"
    },
    "id": "rcdI748AEYa8",
    "outputId": "c4fc5cc7-78d6-4127-8ce0-2e3548942304"
   },
   "outputs": [],
   "source": [
    "#!/usr/bin/python3\n",
    "# import tensorflow as tf\n",
    "import numpy as np\n",
    "from math import exp\n",
    "from numpy.random import binomial\n",
    "from random import shuffle\n",
    "from random import seed\n",
    "import pandas as pd\n",
    "from IPython.display import display, clear_output\n",
    "import os\n",
    "# print(\"Num GPUs Available: \", len(tf.config.list_physical_devices('GPU')))\n",
    "\n",
    "import CompactLSM\n",
    "\n",
    "seed(4) # for replicating results"
   ]
  },
  {
   "cell_type": "markdown",
   "metadata": {},
   "source": [
    "Reservoir Dimension set"
   ]
  },
  {
   "cell_type": "code",
   "execution_count": null,
   "metadata": {
    "ExecuteTime": {
     "end_time": "2021-10-23T13:14:05.278665Z",
     "start_time": "2021-10-23T13:14:05.261678Z"
    }
   },
   "outputs": [],
   "source": [
    "nx = 5\n",
    "ny = 5\n",
    "nz = 5\n",
    "N = nx*ny*nz                                          # Reservoir size\n",
    "\n",
    "N_read = 10                                           # No. of Readout neurons"
   ]
  },
  {
   "cell_type": "markdown",
   "metadata": {
    "ExecuteTime": {
     "end_time": "2021-10-23T12:37:57.345267Z",
     "start_time": "2021-10-23T12:37:57.330268Z"
    }
   },
   "source": [
    "Important constants related to LIF neuron and synaptic model"
   ]
  },
  {
   "cell_type": "code",
   "execution_count": null,
   "metadata": {
    "ExecuteTime": {
     "end_time": "2021-10-23T13:14:06.131158Z",
     "start_time": "2021-10-23T13:14:06.122158Z"
    }
   },
   "outputs": [],
   "source": [
    "global vrest, vth, t_refrac\n",
    "vrest, vth, t_refrac = 0, 20, 2\n",
    "\n",
    "tau_m = 32\n",
    "params_potential = {'C':1, 'g_L':1/tau_m, 'E_L':vrest, 'V_T':vth, 'R_p':t_refrac}\n",
    "\n",
    "Delay = 1 #constant delay for all synapses in ms\n",
    "\n",
    "tau_c = 64\n",
    "C_theta = 5\n",
    "del_C = 3\n",
    "n_bits = 3\n",
    "delta_c = 1\n",
    "params_conc = {'C_theta':C_theta, 'del_C':del_C, 'tau_c':64, 'nbits':n_bits, 'delta_c':delta_c}\n",
    "\n",
    "syn_string = \"first-order\"\n",
    "\n",
    "sampling_freq = 12.5 # in khz\n",
    "h = 1/sampling_freq # in ms\n",
    "\n",
    "time_params = {'h':h, 'Delay':Delay}"
   ]
  },
  {
   "cell_type": "markdown",
   "metadata": {},
   "source": [
    "Set Reservoir Connections"
   ]
  },
  {
   "cell_type": "code",
   "execution_count": null,
   "metadata": {
    "ExecuteTime": {
     "end_time": "2021-10-23T13:14:07.447547Z",
     "start_time": "2021-10-23T13:14:07.328539Z"
    }
   },
   "outputs": [],
   "source": [
    "# Storing the IDs of the neurons\n",
    "LSM_ID = np.zeros((nx,ny,nz),dtype=np.int64)\n",
    "l = 0\n",
    "for i in range(nx):\n",
    "    for j in range(ny):\n",
    "        for k in range(nz):\n",
    "            LSM_ID[i,j,k] = l\n",
    "            l = l + 1\n",
    "\n",
    "# Storing the synapse connections, and creating the initial weight matrix\n",
    "seed(1)\n",
    "k_prob = [0.45, 0.3, 0.6, 0.15]\n",
    "r_sq = 2**2\n",
    "\n",
    "W_arr = [3, 6, -2, -2]\n",
    "W_init = 3\n",
    "Weights_temp = np.zeros((N,N))\n",
    "\n",
    "N_in = int(N*0.8)\n",
    "neuron_type = [ int(i<N_in) for i in range(N)]\n",
    "shuffle(neuron_type) # 1 for excitatory, 0 for inhibitory\n",
    "\n",
    "synapes = [dict() for i in range(N)]    # an array of dictonaries which store the location of neuron, \n",
    "                                        # type of neuron, and the IDs of the neurons it is connected to\n",
    "\n",
    "for l in range(N):\n",
    "    loc = CompactLSM.ID_to_ind(nx,ny,nz,l)\n",
    "    n_type = neuron_type[l]\n",
    "    cons = []\n",
    "    for i in range(nx):\n",
    "        for j in range(ny):\n",
    "            for k in range(nz):\n",
    "                if l != int(LSM_ID[i,j,k]):\n",
    "                    dist_sq = (loc[0]-i)**2 + (loc[1]-j)**2 + (loc[2]-k)**2\n",
    "                    k_probl = 0\n",
    "                    if n_type == 1:\n",
    "                      if neuron_type[int(LSM_ID[i,j,k])] == 1:\n",
    "                        k_probl = k_prob[0]\n",
    "                        W_init = W_arr[0]\n",
    "                      else:\n",
    "                        k_probl = k_prob[1]\n",
    "                        W_init = W_arr[1]\n",
    "                    else:\n",
    "                      if neuron_type[int(LSM_ID[i,j,k])] == 1:\n",
    "                        k_probl = k_prob[2]\n",
    "                        W_init = W_arr[2]\n",
    "                      else:\n",
    "                        k_probl = k_prob[3]\n",
    "                        W_init = W_arr[3]\n",
    "\n",
    "                    probability = k_probl* exp(-1*dist_sq/r_sq)\n",
    "#                     print(probability)\n",
    "                    check = binomial(1,probability)\n",
    "                    if check == 1:\n",
    "                        cons.append(int(LSM_ID[i,j,k]))\n",
    "                        Weights_temp[l,int(LSM_ID[i,j,k])] = W_init    \n",
    "    synapes[l] = {\"Location\":loc, \"Neuron_type\":n_type, \"connections\":cons}\n",
    "\n",
    "global Weights\n",
    "Weights = Weights_temp\n"
   ]
  },
  {
   "cell_type": "markdown",
   "metadata": {
    "ExecuteTime": {
     "end_time": "2021-10-23T13:37:08.001869Z",
     "start_time": "2021-10-23T13:37:07.984870Z"
    }
   },
   "source": [
    "Set Readout neuron initial Weights"
   ]
  },
  {
   "cell_type": "code",
   "execution_count": null,
   "metadata": {
    "ExecuteTime": {
     "end_time": "2021-10-23T13:37:34.269514Z",
     "start_time": "2021-10-23T13:37:34.258516Z"
    }
   },
   "outputs": [],
   "source": [
    "All_labels = [str(x) for x in range(10)]\n",
    "# N_read = 10                                           # No. of Readout neurons\n",
    "W_init_read = 1                                       # Initial weight, equal for all, update with learning\n",
    "Weights_temp_readOut = W_init_read*np.ones((N_read, N), dtype='float')\n",
    "\n",
    "\n",
    "synapes_read = []        # an array of dictonaries which store the label of neuron, \n",
    "                                                      # and the IDs of the neurons it is connected to\n",
    "\n",
    "for l in range(N_read):\n",
    "    label = All_labels[l]\n",
    "    synapes_read.append(label)\n",
    "\n",
    "Weights_readOut = Weights_temp_readOut"
   ]
  },
  {
   "cell_type": "code",
   "execution_count": null,
   "metadata": {},
   "outputs": [],
   "source": [
    "# creating file location and label arrays for train and validate\n",
    "\n",
    "base = 'PreProcessing/trainBSA'\n",
    "os.listdir(base)\n",
    "\n",
    "train_Labels = []\n",
    "file_name_List = []\n",
    "\n",
    "for human in os.listdir(base):\n",
    "    base_up = base + '/' + human\n",
    "    for train_sample in os.listdir(base_up):\n",
    "        train_Label = train_sample[0:2]\n",
    "        file_loc = base_up + '/' + train_sample\n",
    "        file_name_List.append(file_loc)\n",
    "        train_Labels.append(train_Label)\n",
    "\n",
    "seedval = 4\n",
    "\n",
    "seed(seedval)\n",
    "shuffle(train_Labels)\n",
    "seed(seedval)\n",
    "shuffle(file_name_List)\n",
    "\n",
    "total_size = len(train_Labels)\n",
    "train_size = int(total_size*0.8)\n",
    "\n",
    "validate_Labels = train_Labels[train_size:total_size]\n",
    "validate_file_list = file_name_List[train_size:total_size]\n",
    "\n",
    "train_Labels = train_Labels[0:train_size]\n",
    "train_file_list = file_name_List[0:train_size]"
   ]
  },
  {
   "cell_type": "markdown",
   "metadata": {},
   "source": [
    "### Finding input neurons to reservoir current and then using the spike train to find the current input to the reservoir"
   ]
  },
  {
   "cell_type": "code",
   "execution_count": null,
   "metadata": {
    "ExecuteTime": {
     "end_time": "2021-10-23T13:37:37.964178Z",
     "start_time": "2021-10-23T13:37:37.952181Z"
    }
   },
   "outputs": [],
   "source": [
    "# print(\"Input neurons =\",L)\n",
    "# print(\"Size of Reservoir =\",nx,\"X\",ny,\"X\",nz,\",Total total neurons =\",N)\n",
    "# print(\"Total no.of read out neurons =\",N_read)"
   ]
  },
  {
   "cell_type": "markdown",
   "metadata": {},
   "source": [
    "### solving the reservoir"
   ]
  },
  {
   "cell_type": "code",
   "execution_count": null,
   "metadata": {
    "ExecuteTime": {
     "end_time": "2021-10-22T06:10:12.103704Z",
     "start_time": "2021-10-22T06:10:11.996696Z"
    }
   },
   "outputs": [],
   "source": [
    "# Training\n",
    "EPOCHS = 200 # From paper\n",
    "\n",
    "Weights_epoch_save = []\n",
    "prediction_rate = np.zeros((EPOCHS,))\n",
    "\n",
    "for epoch in range(500):\n",
    "    correct_predictions = 0\n",
    "\n",
    "    Input_gen_func = CompactLSM.Input_current_gen(train_file_list, syn_string, N, time_params, training=True, train_Labels=train_Labels)\n",
    "    NUM_INPUTS = len(train_Labels)\n",
    "    \n",
    "    for i in range(NUM_INPUTS):\n",
    "        In_app, L, M, train_Label,input_num = next(Input_gen_func)      # Generates next input   \n",
    "\n",
    "        [Reservoir_potential, Reservoir_Spikes] = CompactLSM.reservoir_solver(N, Delay, synapes, M, h, In_app, \n",
    "                                                                          params_potential, Weights, syn_string)\n",
    "        \n",
    "        Readout_potential, Readout_Spikes, trained_weights = CompactLSM.readOut_response(N_read,N, Delay, synapes, M,\n",
    "                                                                                         h, Reservoir_Spikes, \n",
    "                                                                                         params_potential,params_conc,\n",
    "                                                                                         Weights_readOut,syn_string,\n",
    "                                                                                         training=True,train_ids=[train_Label])\n",
    "        \n",
    "        class_out_label, class_out_idx= CompactLSM.classifier(Readout_Spikes,synapes_read)\n",
    "        Weights_readOut = trained_weights\n",
    "        \n",
    "        display_string = \"Epoch: {}, Training input: {}, Classified label: {}, Actual label: {}\".format(\n",
    "            epoch + 1, i + 1, class_out_label, train_Label)\n",
    "        display(display_string)\n",
    "        clear_output(wait=True)\n",
    "    \n",
    "        if int(class_out_label) == int(train_Label):\n",
    "            correct_predictions += 1\n",
    "    \n",
    "    Weights_epoch_save.append(Weights_readOut)\n",
    "    prediction_rate[epoch] = correct_predictions/NUM_INPUTS\n",
    "    "
   ]
  },
  {
   "cell_type": "code",
   "execution_count": null,
   "metadata": {},
   "outputs": [],
   "source": [
    "# Validation\n",
    "Input_gen_func = CompactLSM.Input_current_gen(validate_file_list, syn_string, N, time_params, training=True, train_Labels=validate_Labels)\n",
    "NUM_INPUTS = len(validate_Labels)\n",
    "\n",
    "correct_predictions = 0\n",
    "\n",
    "for i in range(NUM_INPUTS):\n",
    "    In_app, L, M, validate_Label,input_num = next(Input_gen_func)      # Generates next input   \n",
    "\n",
    "    [Reservoir_potential, Reservoir_Spikes] = CompactLSM.reservoir_solver(N, Delay, synapes, M, h, In_app, \n",
    "                                                                        params_potential, Weights, syn_string)\n",
    "    \n",
    "    Readout_potential, Readout_Spikes, trained_weights = CompactLSM.readOut_response(N_read,N, Delay, synapes, M,\n",
    "                                                                                        h, Reservoir_Spikes, \n",
    "                                                                                        params_potential,params_conc,\n",
    "                                                                                        Weights_readOut,syn_string,\n",
    "                                                                                        training=False,train_ids=[validate_Label])\n",
    "    \n",
    "    class_out_label, class_out_idx= CompactLSM.classifier(Readout_Spikes,synapes_read)\n",
    "    Weights_readOut = trained_weights\n",
    "    \n",
    "    display_string = \"Validate input: {}, Classified label: {}, Actual label: {}\".format(\n",
    "        i + 1, class_out_label, validate_Label)\n",
    "    display(display_string)\n",
    "    clear_output(wait=True)\n",
    "\n",
    "    if int(class_out_label) == int(validate_Label):\n",
    "        correct_predictions += 1\n",
    "\n",
    "prediction_rate = correct_predictions/NUM_INPUTS"
   ]
  }
 ],
 "metadata": {
  "interpreter": {
   "hash": "cb34221c29cbd393528f59737984b7cee90fecb74dfd32a425a37477f31f3c8a"
  },
  "kernelspec": {
   "display_name": "Python 3.9.6 64-bit",
   "name": "python3"
  },
  "language_info": {
   "codemirror_mode": {
    "name": "ipython",
    "version": 3
   },
   "file_extension": ".py",
   "mimetype": "text/x-python",
   "name": "python",
   "nbconvert_exporter": "python",
   "pygments_lexer": "ipython3",
   "version": "3.9.6"
  }
 },
 "nbformat": 4,
 "nbformat_minor": 2
}
