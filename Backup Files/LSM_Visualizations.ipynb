{
 "cells": [
  {
   "cell_type": "code",
   "execution_count": 1,
   "metadata": {
    "ExecuteTime": {
     "end_time": "2021-11-19T04:21:15.392020Z",
     "start_time": "2021-11-19T04:21:05.400490Z"
    },
    "colab": {
     "base_uri": "https://localhost:8080/"
    },
    "id": "rcdI748AEYa8",
    "outputId": "c4fc5cc7-78d6-4127-8ce0-2e3548942304"
   },
   "outputs": [],
   "source": [
    "#!/usr/bin/python3\n",
    "# import tensorflow as tf\n",
    "import numpy as np\n",
    "from math import exp\n",
    "from numpy.random import binomial,shuffle,seed, choice\n",
    "import pandas as pd\n",
    "from IPython.display import display, clear_output\n",
    "import os\n",
    "import numpy\n",
    "# print(\"Num GPUs Available: \", len(tf.config.list_physical_devices('GPU')))\n",
    "\n",
    "import CompactLSM\n",
    "\n",
    "seed(4) # for replicating results"
   ]
  },
  {
   "cell_type": "markdown",
   "metadata": {},
   "source": [
    "Reservoir Dimension set"
   ]
  },
  {
   "cell_type": "code",
   "execution_count": 2,
   "metadata": {
    "ExecuteTime": {
     "end_time": "2021-11-19T04:21:15.424039Z",
     "start_time": "2021-11-19T04:21:15.396024Z"
    }
   },
   "outputs": [],
   "source": [
    "nx = 5\n",
    "ny = 5\n",
    "nz = 5\n",
    "N = nx*ny*nz                                          # Reservoir size\n",
    "\n",
    "N_read = 10                                           # No. of Readout neurons"
   ]
  },
  {
   "cell_type": "markdown",
   "metadata": {
    "ExecuteTime": {
     "end_time": "2021-10-23T12:37:57.345267Z",
     "start_time": "2021-10-23T12:37:57.330268Z"
    }
   },
   "source": [
    "Important constants related to LIF neuron and synaptic model"
   ]
  },
  {
   "cell_type": "code",
   "execution_count": 3,
   "metadata": {
    "ExecuteTime": {
     "end_time": "2021-11-19T04:22:23.073778Z",
     "start_time": "2021-11-19T04:22:23.046778Z"
    }
   },
   "outputs": [],
   "source": [
    "global vrest, vth, t_refrac\n",
    "vrest, vth, t_refrac = 0, 20, 2\n",
    "\n",
    "tau_m = 32\n",
    "params_potential = {'C':1, 'g_L':1/tau_m, 'E_L':vrest, 'V_T':vth, 'R_p':t_refrac}\n",
    "\n",
    "Delay = 1 #constant delay for all synapses in ms\n",
    "\n",
    "tau_c = 64\n",
    "C_theta = 5\n",
    "del_C = 3\n",
    "n_bits = 8\n",
    "delta_c = 1\n",
    "params_conc = {'C_theta':C_theta, 'del_C':del_C, 'tau_c':64, 'nbits':n_bits, 'delta_c':delta_c}\n",
    "\n",
    "syn_string = \"first-order\"\n",
    "\n",
    "sampling_freq = 12.5 # in khz\n",
    "h = 1/sampling_freq # in ms\n",
    "\n",
    "time_params = {'h':h, 'Delay':Delay}"
   ]
  },
  {
   "cell_type": "markdown",
   "metadata": {},
   "source": [
    "Set Reservoir Connections"
   ]
  },
  {
   "cell_type": "code",
   "execution_count": 4,
   "metadata": {
    "ExecuteTime": {
     "end_time": "2021-11-19T04:22:24.806799Z",
     "start_time": "2021-11-19T04:22:24.449689Z"
    }
   },
   "outputs": [
    {
     "name": "stdout",
     "output_type": "stream",
     "text": [
      "Total synapse: 1130 ,E --> E : 769 ,E --> I: 105 ,I --> E/I: 256\n",
      "Total Connections: for neuron 64:1, [19, 62, 83, 84, 89, 93, 97, 109, 114, 118]\n"
     ]
    }
   ],
   "source": [
    "# Storing the IDs of the neurons\n",
    "LSM_ID = np.zeros((nx,ny,nz),dtype=np.int64)\n",
    "l = 0\n",
    "for i in range(nx):\n",
    "    for j in range(ny):\n",
    "        for k in range(nz):\n",
    "            LSM_ID[i,j,k] = l\n",
    "            l = l + 1\n",
    "\n",
    "# Storing the synapse connections, and creating the initial weight matrix\n",
    "\n",
    "k_prob = [0.45, 0.3, 0.6, 0.15]\n",
    "r_sq = 2**2\n",
    "\n",
    "W_arr = [3, 6, -2, -2]\n",
    "W_init = 3\n",
    "Weights_temp = np.zeros((N,N))\n",
    "\n",
    "N_in = int(N*0.8)\n",
    "neuron_type = [ int(i<N_in) for i in range(N)]\n",
    "seed(4)\n",
    "shuffle(neuron_type) # 1 for excitatory, 0 for inhibitory\n",
    "\n",
    "synapes = [dict() for i in range(N)]    # an array of dictonaries which store the location of neuron, \n",
    "                                        # type of neuron, and the IDs of the neurons it is connected to\n",
    "\n",
    "for l in range(N):\n",
    "    loc = CompactLSM.ID_to_ind(nx,ny,nz,l)\n",
    "    n_type = neuron_type[l]\n",
    "    cons = []\n",
    "    for i in range(nx):\n",
    "        for j in range(ny):\n",
    "            for k in range(nz):\n",
    "                if l != int(LSM_ID[i,j,k]):\n",
    "                    dist_sq = (loc[0]-i)**2 + (loc[1]-j)**2 + (loc[2]-k)**2\n",
    "                    k_probl = 0\n",
    "                    if n_type == 1:\n",
    "                      if neuron_type[int(LSM_ID[i,j,k])] == 1:\n",
    "                        k_probl = k_prob[0]\n",
    "                        W_init = W_arr[0]\n",
    "                      else:\n",
    "                        k_probl = k_prob[1]\n",
    "                        W_init = W_arr[1]\n",
    "                    else:\n",
    "                      if neuron_type[int(LSM_ID[i,j,k])] == 1:\n",
    "                        k_probl = k_prob[2]\n",
    "                        W_init = W_arr[2]\n",
    "                      else:\n",
    "                        k_probl = k_prob[3]\n",
    "                        W_init = W_arr[3]\n",
    "\n",
    "                    probability = k_probl* exp(-1*dist_sq/r_sq)\n",
    "#                     print(probability)\n",
    "                    check = binomial(1,probability)\n",
    "                    if check == 1:\n",
    "                        cons.append(int(LSM_ID[i,j,k]))\n",
    "                        Weights_temp[l,int(LSM_ID[i,j,k])] = W_init    \n",
    "    synapes[l] = {\"Location\":loc, \"Neuron_type\":n_type, \"connections\":cons}\n",
    "\n",
    "global Weights\n",
    "Weights = Weights_temp\n",
    "print(\"Total synapse:\", len(np.argwhere(Weights!=0)), \n",
    "        \",E --> E :\", len(np.argwhere(Weights==3)), \n",
    "        \",E --> I:\",len(np.argwhere(Weights==6)),\n",
    "        \",I --> E/I:\",len(np.argwhere(Weights==-2)))\n",
    "i = 64\n",
    "print(\"Total Connections: for neuron {}:{}, {}\".format(i,synapes[i][\"Neuron_type\"],synapes[i][\"connections\"]) )"
   ]
  },
  {
   "cell_type": "code",
   "execution_count": 5,
   "metadata": {
    "ExecuteTime": {
     "end_time": "2021-11-19T04:22:29.483903Z",
     "start_time": "2021-11-19T04:22:29.347891Z"
    }
   },
   "outputs": [],
   "source": [
    "def show_3d_connections(net_shape, camera=(45,-135), show_what='both', show_discc=False, show_conn=False, show_index=False, show_coord=False, show_arrows=False, markersize=(10,10,70,70), figsize=(100,100)):\n",
    "    '''\n",
    "    Prints the neurons and the connections between them.\n",
    "    net_shape->the same used to generate the liquid (list or tuple)\n",
    "    show_what='both','exc' or 'inh'->controls which types of neurons should be plotted\n",
    "    show_discc=False->doesn't show the neurons without connections to other ones\n",
    "    show_conn=False->shows or not the lines between the connected neurons\n",
    "    show_number=True->shows the index number of each neuron according to the Neurongroup\n",
    "    show_coord=True->shows the x,y,z coordinates\n",
    "    show_arrows=True->shows arrows indicating the direction of connections (very slow!)\n",
    "    figsize=(width,height)->in millimetres\n",
    "    markersize=(inh_dot,exc_dot,inh_star,exc_star)->sizes of the markers\n",
    "    camera=(45,45)->camera angles, in degrees\n",
    "    '''\n",
    "    from mpl_toolkits.mplot3d import Axes3D\n",
    "    import matplotlib.pyplot as plt\n",
    "    marker_size_inh,marker_size_exc,marker_size_rec_inh,marker_size_rec_exc = markersize\n",
    "    user_elev,user_azim = camera\n",
    "    fig_w,fig_h = figsize #figure size in millimetres\n",
    "    NofN = net_shape[0]*net_shape[1]*net_shape[2]\n",
    "\n",
    "    # This is how the liquid neurons index are distributed inside the 3D shape\n",
    "    # Each line is a neuron index and the collumns are its x,y and z positions.\n",
    "    count_3d=0;\n",
    "    Neuron3DMatrix = numpy.empty((NofN,3),dtype=numpy.int)\n",
    "    for zi in range(net_shape[2]):\n",
    "        for yi in range(net_shape[1]):\n",
    "            for xi in range(net_shape[0]):\n",
    "                Neuron3DMatrix[count_3d][0]=xi;\n",
    "                Neuron3DMatrix[count_3d][1]=yi;\n",
    "                Neuron3DMatrix[count_3d][2]=zi;\n",
    "                count_3d+=1;\n",
    "\n",
    "    _exc_indices = []\n",
    "    _inh_indices = []\n",
    "    \n",
    "    _disconnected = []\n",
    "    if not show_discc:\n",
    "        _disconnected = numpy.array(range(NofN))[output_connected(NofN)==0];\n",
    "    \n",
    "    if (show_what=='both' or show_what=='inh'):\n",
    "        _inh_indices = output_inh_indices(NoINHN)\n",
    "        # Positions of the neurons in the 3D space\n",
    "        x_inh=[Neuron3DMatrix[i][0] for i in range(NofN) if (i in _inh_indices) and (i not in _disconnected)] \n",
    "        y_inh=[Neuron3DMatrix[i][1] for i in range(NofN) if (i in _inh_indices) and (i not in _disconnected)] \n",
    "        z_inh=[Neuron3DMatrix[i][2] for i in range(NofN) if (i in _inh_indices) and (i not in _disconnected)] \n",
    "        \n",
    "        recurrent_connections_idx_inh = numpy.array(output_pre_i_connections(NoINHC)[output_pre_i_connections(NoINHC)==output_pos_i_connections(NoINHC)])\n",
    "        x_rec_inh=[i[0] for i in Neuron3DMatrix[[i for i in recurrent_connections_idx_inh if i not in _disconnected]]] \n",
    "        y_rec_inh=[i[1] for i in Neuron3DMatrix[[i for i in recurrent_connections_idx_inh if i not in _disconnected]]]\n",
    "        z_rec_inh=[i[2] for i in Neuron3DMatrix[[i for i in recurrent_connections_idx_inh if i not in _disconnected]]]\n",
    "\n",
    "        # List of tuples with (pre synaptic, post synaptic) INHIBITORY->ANYTHING neurons connections indexes\n",
    "        inh_connect_positions_pre  = [Neuron3DMatrix[i] for i,j in zip(output_pre_i_connections(NoINHC),range(NoINHC)) if  (output_pre_i_connections(NoINHC)[j]!=output_pos_i_connections(NoINHC)[j])]\n",
    "        inh_connect_positions_post = [Neuron3DMatrix[i] for i,j in zip(output_pos_i_connections(NoINHC),range(NoINHC)) if  (output_pre_i_connections(NoINHC)[j]!=output_pos_i_connections(NoINHC)[j])]        \n",
    "        \n",
    "        \n",
    "    if (show_what=='both' or show_what=='exc'):\n",
    "        _exc_indices = output_exc_indices(NoEXCN)\n",
    "        x_exc=[Neuron3DMatrix[i][0] for i in range(NofN) if (i in _exc_indices) and not (i in _disconnected)] \n",
    "        y_exc=[Neuron3DMatrix[i][1] for i in range(NofN) if (i in _exc_indices) and not (i in _disconnected)] \n",
    "        z_exc=[Neuron3DMatrix[i][2] for i in range(NofN) if (i in _exc_indices) and not (i in _disconnected)] \n",
    "\n",
    "        recurrent_connections_idx_exc = numpy.array(output_pre_e_connections(NoEXCC)[output_pre_e_connections(NoEXCC)==output_pos_e_connections(NoEXCC)])\n",
    "        x_rec_exc=[i[0] for i in Neuron3DMatrix[[i for i in recurrent_connections_idx_exc if i not in _disconnected]]] \n",
    "        y_rec_exc=[i[1] for i in Neuron3DMatrix[[i for i in recurrent_connections_idx_exc if i not in _disconnected]]]\n",
    "        z_rec_exc=[i[2] for i in Neuron3DMatrix[[i for i in recurrent_connections_idx_exc if i not in _disconnected]]]\n",
    "\n",
    "        # List of tuples with (pre synaptic, post synaptic) EXCITATORY->ANYTHING neurons connections indexes\n",
    "        exc_connect_positions_pre  = [Neuron3DMatrix[i] for i,j in zip(output_pre_e_connections(NoEXCC),range(NoEXCC)) if (output_pre_e_connections(NoEXCC)[j]!=output_pos_e_connections(NoEXCC)[j])]\n",
    "        exc_connect_positions_post = [Neuron3DMatrix[i] for i,j in zip(output_pos_e_connections(NoEXCC),range(NoEXCC)) if (output_pre_e_connections(NoEXCC)[j]!=output_pos_e_connections(NoEXCC)[j])]\n",
    "\n",
    "\n",
    "    fig = plt.figure() # creates the figure for the following plots\n",
    "    fig.set_size_inches(fig_w/25.4,fig_h/25.4, forward=False) #Set the figure size in inches (1in == 2.54cm)\n",
    "    ax = fig.add_subplot(111, projection='3d') # setup to only one\n",
    "\n",
    "    if (show_what=='both' or show_what=='inh'):    \n",
    "        ax.scatter(x_inh, y_inh, z_inh, c='b', s=[marker_size_inh]*len(x_inh)) # plots the points correnponding to the inhibitory neurons\n",
    "\n",
    "    if (show_what=='both' or show_what=='exc'):         \n",
    "        ax.scatter(x_exc, y_exc, z_exc, c='r', s=[marker_size_exc]*len(x_exc)) # plots the points correnponding to the excitatory neurons\n",
    "\n",
    "    if (show_what=='both' or show_what=='inh'):    \n",
    "        ax.scatter(x_rec_inh, y_rec_inh, z_rec_inh, c='b', marker='*', s=[marker_size_rec_inh]*len(x_rec_inh)) # plots where a inhibitory neuron has a reccurent connection\n",
    "\n",
    "    if (show_what=='both' or show_what=='exc'):    \n",
    "        ax.scatter(x_rec_exc, y_rec_exc, z_rec_exc, c='r', marker='*', s=[marker_size_rec_exc]*len(x_rec_exc)) # plots where a excitatory neuron has a reccurent connection\n",
    "    \n",
    "    _what_to_show = []\n",
    "    if (show_what=='both' or show_what=='exc'):\n",
    "        _what_to_show += _exc_indices.tolist()\n",
    "    if (show_what=='both' or show_what=='inh'):\n",
    "        _what_to_show += _inh_indices.tolist()        \n",
    "        \n",
    "    # Insert a label with the position of each neuron according to the positions_list (NeuronGroup)\n",
    "    if show_index:    \n",
    "        for t,n in [(Neuron3DMatrix[i],i) for i in range(NofN) if (i in _what_to_show) and (i not in _disconnected)]:\n",
    "            ax.text(t[0], t[1], t[2], \"[\"+str(n)+\"]\")\n",
    "\n",
    "    # Insert a label with the 3D coordinate used to calculate the connection probabilities\n",
    "    if show_coord:\n",
    "        for t,n in [(Neuron3DMatrix[i],i) for i in range(NofN) if (i in _what_to_show) and (i not in _disconnected)]:\n",
    "            ax.text(t[0], t[1], t[2], str(t)+\"=\"+str(n)) # to insert also the coordinates of the point\n",
    "\n",
    "    #\n",
    "    # Draw a 3D vector (arrow)\n",
    "    from matplotlib.patches import FancyArrowPatch\n",
    "    from mpl_toolkits.mplot3d import proj3d\n",
    "\n",
    "    class Arrow3D(FancyArrowPatch):\n",
    "        def __init__(self, xs, ys, zs, *args, **kwargs):\n",
    "            FancyArrowPatch.__init__(self, (0,0), (0,0), *args, **kwargs)\n",
    "            self._verts3d = xs, ys, zs\n",
    "\n",
    "        def draw(self, renderer):\n",
    "            xs3d, ys3d, zs3d = self._verts3d\n",
    "            xs, ys, zs = proj3d.proj_transform(xs3d, ys3d, zs3d, renderer.M)\n",
    "            self.set_positions((xs[0],ys[0]),(xs[1],ys[1]))\n",
    "            FancyArrowPatch.draw(self, renderer)\n",
    "\n",
    "    if show_conn:\n",
    "        if show_arrows:\n",
    "            # Plot the EXCITATORY connections\n",
    "            if (show_what=='both' or show_what=='exc'):    \n",
    "                for i in range(len(exc_connect_positions_pre)):\n",
    "                    a = Arrow3D(\n",
    "                        [ exc_connect_positions_pre[i][0], exc_connect_positions_post[i][0] ], \n",
    "                        [ exc_connect_positions_pre[i][1], exc_connect_positions_post[i][1] ], \n",
    "                        [ exc_connect_positions_pre[i][2], exc_connect_positions_post[i][2] ], \n",
    "                        label='excitatory connections', mutation_scale=20, lw=1, arrowstyle=\"-|>\", color=\"r\")\n",
    "                    ax.add_artist(a)\n",
    "        else:\n",
    "            if (show_what=='both' or show_what=='exc'):    \n",
    "                # Plot the EXCITATORY connections - FAST VERSION WITHOUT ARROWS\n",
    "                for i in range(len(exc_connect_positions_pre)):\n",
    "                    ax.plot(\n",
    "                        [ exc_connect_positions_pre[i][0], exc_connect_positions_post[i][0] ], \n",
    "                        [ exc_connect_positions_pre[i][1], exc_connect_positions_post[i][1] ], \n",
    "                        [ exc_connect_positions_pre[i][2], exc_connect_positions_post[i][2] ], \n",
    "                        label='excitatory connections', color='#FF0000')\n",
    "\n",
    "        if show_arrows:\n",
    "            if (show_what=='both' or show_what=='inh'):    \n",
    "                # Plot the INHIBITORY connections\n",
    "                for i in range(len(inh_connect_positions_pre)):\n",
    "                    a = Arrow3D(\n",
    "                        [ inh_connect_positions_pre[i][0], inh_connect_positions_post[i][0] ], \n",
    "                        [ inh_connect_positions_pre[i][1], inh_connect_positions_post[i][1] ], \n",
    "                        [ inh_connect_positions_pre[i][2], inh_connect_positions_post[i][2] ], \n",
    "                        label='inhibitory connections', mutation_scale=20, lw=1, arrowstyle=\"-|>\", color=\"b\")\n",
    "                    ax.add_artist(a)\n",
    "        else:\n",
    "            if (show_what=='both' or show_what=='inh'):                \n",
    "                # Plot the INHIBITORY connections - FAST VERSION WITHOUT ARROWS\n",
    "                for i in range(len(inh_connect_positions_pre)):\n",
    "                    ax.plot(\n",
    "                        [ inh_connect_positions_pre[i][0], inh_connect_positions_post[i][0] ], \n",
    "                        [ inh_connect_positions_pre[i][1], inh_connect_positions_post[i][1] ], \n",
    "                        [ inh_connect_positions_pre[i][2], inh_connect_positions_post[i][2] ], \n",
    "                        label='inhibitory connections', color='#0000FF')\n",
    "\n",
    "\n",
    "    ax.set_xlabel('X')\n",
    "    ax.set_ylabel('Y')\n",
    "    ax.set_zlabel('Z')\n",
    "    \n",
    "    plt.title(\"Liquid's 3D structure\")\n",
    "    \n",
    "    ax.view_init(elev=user_elev, azim=user_azim)\n",
    "    \n",
    "    plt.show()"
   ]
  },
  {
   "cell_type": "code",
   "execution_count": 6,
   "metadata": {
    "ExecuteTime": {
     "end_time": "2021-11-19T04:22:30.538393Z",
     "start_time": "2021-11-19T04:22:30.154368Z"
    }
   },
   "outputs": [
    {
     "ename": "NameError",
     "evalue": "name 'output_connected' is not defined",
     "output_type": "error",
     "traceback": [
      "\u001b[1;31m---------------------------------------------------------------------------\u001b[0m",
      "\u001b[1;31mNameError\u001b[0m                                 Traceback (most recent call last)",
      "\u001b[1;32m~\\AppData\\Local\\Temp/ipykernel_20928/3901134312.py\u001b[0m in \u001b[0;36m<module>\u001b[1;34m\u001b[0m\n\u001b[0;32m      1\u001b[0m show_3d_connections((nx,ny,nz), camera=(45,-135), show_what='both', show_discc=False, show_conn=True, \n\u001b[0;32m      2\u001b[0m                     \u001b[0mshow_index\u001b[0m\u001b[1;33m=\u001b[0m\u001b[1;32mFalse\u001b[0m\u001b[1;33m,\u001b[0m \u001b[0mshow_coord\u001b[0m\u001b[1;33m=\u001b[0m\u001b[1;32mFalse\u001b[0m\u001b[1;33m,\u001b[0m \u001b[0mshow_arrows\u001b[0m\u001b[1;33m=\u001b[0m\u001b[1;32mFalse\u001b[0m\u001b[1;33m,\u001b[0m \u001b[0mmarkersize\u001b[0m\u001b[1;33m=\u001b[0m\u001b[1;33m(\u001b[0m\u001b[1;36m10\u001b[0m\u001b[1;33m,\u001b[0m\u001b[1;36m10\u001b[0m\u001b[1;33m,\u001b[0m\u001b[1;36m120\u001b[0m\u001b[1;33m,\u001b[0m\u001b[1;36m120\u001b[0m\u001b[1;33m)\u001b[0m\u001b[1;33m,\u001b[0m\u001b[1;33m\u001b[0m\u001b[1;33m\u001b[0m\u001b[0m\n\u001b[1;32m----> 3\u001b[1;33m                     figsize=(500,300))\n\u001b[0m",
      "\u001b[1;32m~\\AppData\\Local\\Temp/ipykernel_20928/3420158428.py\u001b[0m in \u001b[0;36mshow_3d_connections\u001b[1;34m(net_shape, camera, show_what, show_discc, show_conn, show_index, show_coord, show_arrows, markersize, figsize)\u001b[0m\n\u001b[0;32m     37\u001b[0m     \u001b[0m_disconnected\u001b[0m \u001b[1;33m=\u001b[0m \u001b[1;33m[\u001b[0m\u001b[1;33m]\u001b[0m\u001b[1;33m\u001b[0m\u001b[1;33m\u001b[0m\u001b[0m\n\u001b[0;32m     38\u001b[0m     \u001b[1;32mif\u001b[0m \u001b[1;32mnot\u001b[0m \u001b[0mshow_discc\u001b[0m\u001b[1;33m:\u001b[0m\u001b[1;33m\u001b[0m\u001b[1;33m\u001b[0m\u001b[0m\n\u001b[1;32m---> 39\u001b[1;33m         \u001b[0m_disconnected\u001b[0m \u001b[1;33m=\u001b[0m \u001b[0mnumpy\u001b[0m\u001b[1;33m.\u001b[0m\u001b[0marray\u001b[0m\u001b[1;33m(\u001b[0m\u001b[0mrange\u001b[0m\u001b[1;33m(\u001b[0m\u001b[0mNofN\u001b[0m\u001b[1;33m)\u001b[0m\u001b[1;33m)\u001b[0m\u001b[1;33m[\u001b[0m\u001b[0moutput_connected\u001b[0m\u001b[1;33m(\u001b[0m\u001b[0mNofN\u001b[0m\u001b[1;33m)\u001b[0m\u001b[1;33m==\u001b[0m\u001b[1;36m0\u001b[0m\u001b[1;33m]\u001b[0m\u001b[1;33m;\u001b[0m\u001b[1;33m\u001b[0m\u001b[1;33m\u001b[0m\u001b[0m\n\u001b[0m\u001b[0;32m     40\u001b[0m \u001b[1;33m\u001b[0m\u001b[0m\n\u001b[0;32m     41\u001b[0m     \u001b[1;32mif\u001b[0m \u001b[1;33m(\u001b[0m\u001b[0mshow_what\u001b[0m\u001b[1;33m==\u001b[0m\u001b[1;34m'both'\u001b[0m \u001b[1;32mor\u001b[0m \u001b[0mshow_what\u001b[0m\u001b[1;33m==\u001b[0m\u001b[1;34m'inh'\u001b[0m\u001b[1;33m)\u001b[0m\u001b[1;33m:\u001b[0m\u001b[1;33m\u001b[0m\u001b[1;33m\u001b[0m\u001b[0m\n",
      "\u001b[1;31mNameError\u001b[0m: name 'output_connected' is not defined"
     ]
    }
   ],
   "source": [
    "show_3d_connections((nx,ny,nz), camera=(45,-135), show_what='both', show_discc=False, show_conn=True, \n",
    "                    show_index=False, show_coord=False, show_arrows=False, markersize=(10,10,120,120),\n",
    "                    figsize=(500,300))"
   ]
  },
  {
   "cell_type": "markdown",
   "metadata": {
    "ExecuteTime": {
     "end_time": "2021-10-23T13:37:08.001869Z",
     "start_time": "2021-10-23T13:37:07.984870Z"
    }
   },
   "source": [
    "Set Readout neuron initial Weights"
   ]
  },
  {
   "cell_type": "code",
   "execution_count": 7,
   "metadata": {
    "ExecuteTime": {
     "end_time": "2021-11-19T04:22:31.909498Z",
     "start_time": "2021-11-19T04:22:31.892496Z"
    }
   },
   "outputs": [],
   "source": [
    "All_labels = [str(x) for x in range(10)]\n",
    "# N_read = 10                                           # No. of Readout neurons\n",
    "W_init_read = 1                                       # Initial weight, equal for all, update with learning\n",
    "Weights_temp_readOut = W_init_read*np.ones((N_read, N), dtype='float')\n",
    "\n",
    "\n",
    "synapes_read = []        # an array of dictonaries which store the label of neuron, \n",
    "                                                      # and the IDs of the neurons it is connected to\n",
    "\n",
    "for l in range(N_read):\n",
    "    label = All_labels[l]\n",
    "    synapes_read.append(label)\n",
    "\n",
    "Weights_readOut = Weights_temp_readOut"
   ]
  },
  {
   "cell_type": "code",
   "execution_count": 8,
   "metadata": {
    "ExecuteTime": {
     "end_time": "2021-11-19T04:22:32.773638Z",
     "start_time": "2021-11-19T04:22:32.743641Z"
    }
   },
   "outputs": [],
   "source": [
    "# creating file location and label arrays for train and validate\n",
    "\n",
    "base = 'PreProcessing/trainBSA'\n",
    "os.listdir(base)\n",
    "\n",
    "train_Labels = []\n",
    "file_name_List = []\n",
    "\n",
    "for human in os.listdir(base):\n",
    "    base_up = base + '/' + human\n",
    "    for train_sample in os.listdir(base_up):\n",
    "        train_Label = train_sample[0:2]\n",
    "        file_loc = base_up + '/' + train_sample\n",
    "        file_name_List.append(file_loc)\n",
    "        train_Labels.append(train_Label)\n",
    "\n",
    "seedval = 4\n",
    "\n",
    "seed(seedval)\n",
    "shuffle(train_Labels)\n",
    "seed(seedval)\n",
    "shuffle(file_name_List)\n",
    "\n",
    "total_size = len(train_Labels)\n",
    "train_size = int(total_size*0.8)\n",
    "\n",
    "validate_Labels = train_Labels[train_size:total_size]\n",
    "validate_file_list = file_name_List[train_size:total_size]\n",
    "\n",
    "train_Labels = train_Labels[0:train_size]\n",
    "train_file_list = file_name_List[0:train_size]"
   ]
  },
  {
   "cell_type": "code",
   "execution_count": 9,
   "metadata": {
    "ExecuteTime": {
     "end_time": "2021-11-19T04:22:33.408353Z",
     "start_time": "2021-11-19T04:22:33.383357Z"
    }
   },
   "outputs": [],
   "source": [
    "L = 78\n",
    "Fin = 4\n",
    "reservoir_ID = [i for i in range(N)]\n",
    "seed(seedval)\n",
    "Input_CXNs = choice(reservoir_ID, size = (L,Fin))\n",
    "sign_win_matrix = (binomial(1,1/2, size = (L, Fin)) - 0.5)*2\n",
    "# Input_CXNs * sign_win_matrix"
   ]
  },
  {
   "cell_type": "markdown",
   "metadata": {},
   "source": [
    "### solving the reservoir"
   ]
  },
  {
   "cell_type": "code",
   "execution_count": null,
   "metadata": {},
   "outputs": [],
   "source": []
  },
  {
   "cell_type": "code",
   "execution_count": null,
   "metadata": {},
   "outputs": [],
   "source": []
  },
  {
   "cell_type": "code",
   "execution_count": null,
   "metadata": {},
   "outputs": [],
   "source": []
  }
 ],
 "metadata": {
  "interpreter": {
   "hash": "cb34221c29cbd393528f59737984b7cee90fecb74dfd32a425a37477f31f3c8a"
  },
  "kernelspec": {
   "display_name": "Python 3 (ipykernel)",
   "language": "python",
   "name": "python3"
  },
  "language_info": {
   "codemirror_mode": {
    "name": "ipython",
    "version": 3
   },
   "file_extension": ".py",
   "mimetype": "text/x-python",
   "name": "python",
   "nbconvert_exporter": "python",
   "pygments_lexer": "ipython3",
   "version": "3.7.10"
  }
 },
 "nbformat": 4,
 "nbformat_minor": 2
}
