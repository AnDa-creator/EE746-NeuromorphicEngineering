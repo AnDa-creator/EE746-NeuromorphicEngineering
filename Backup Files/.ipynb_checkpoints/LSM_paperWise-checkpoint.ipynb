{
 "cells": [
  {
   "cell_type": "code",
   "execution_count": 1,
   "id": "5ce753c4",
   "metadata": {
    "ExecuteTime": {
     "end_time": "2021-11-23T08:18:14.989920Z",
     "start_time": "2021-11-23T08:18:14.035580Z"
    }
   },
   "outputs": [
    {
     "ename": "ModuleNotFoundError",
     "evalue": "No module named 'CompactLSM'",
     "output_type": "error",
     "traceback": [
      "\u001b[1;31m---------------------------------------------------------------------------\u001b[0m",
      "\u001b[1;31mModuleNotFoundError\u001b[0m                       Traceback (most recent call last)",
      "\u001b[1;32m~\\AppData\\Local\\Temp/ipykernel_20956/2418126697.py\u001b[0m in \u001b[0;36m<module>\u001b[1;34m\u001b[0m\n\u001b[0;32m      6\u001b[0m \u001b[1;32mimport\u001b[0m \u001b[0mos\u001b[0m\u001b[1;33m\u001b[0m\u001b[1;33m\u001b[0m\u001b[0m\n\u001b[0;32m      7\u001b[0m \u001b[1;32mfrom\u001b[0m \u001b[0mtime\u001b[0m \u001b[1;32mimport\u001b[0m \u001b[0msleep\u001b[0m\u001b[1;33m\u001b[0m\u001b[1;33m\u001b[0m\u001b[0m\n\u001b[1;32m----> 8\u001b[1;33m \u001b[1;32mfrom\u001b[0m \u001b[0mCompactLSM\u001b[0m \u001b[1;32mimport\u001b[0m \u001b[0mID_to_ind\u001b[0m\u001b[1;33m,\u001b[0m \u001b[0mclass_of_sample\u001b[0m\u001b[1;33m,\u001b[0m \u001b[0mplot_spikes\u001b[0m\u001b[1;33m,\u001b[0m \u001b[0mclassifier\u001b[0m\u001b[1;33m\u001b[0m\u001b[1;33m\u001b[0m\u001b[0m\n\u001b[0m",
      "\u001b[1;31mModuleNotFoundError\u001b[0m: No module named 'CompactLSM'"
     ]
    }
   ],
   "source": [
    "import numpy as np\n",
    "from math import exp\n",
    "from numpy.random import binomial,shuffle,seed, choice\n",
    "import pandas as pd\n",
    "from IPython.display import display, clear_output\n",
    "import os\n",
    "from time import sleep\n",
    "from CompactLSM import ID_to_ind, class_of_sample, plot_spikes, classifier"
   ]
  },
  {
   "cell_type": "markdown",
   "id": "407c1e11",
   "metadata": {},
   "source": [
    "Reservoir Dimension set"
   ]
  },
  {
   "cell_type": "code",
   "execution_count": null,
   "id": "c548c003",
   "metadata": {
    "ExecuteTime": {
     "end_time": "2021-11-23T08:18:14.989920Z",
     "start_time": "2021-11-23T08:18:14.989920Z"
    }
   },
   "outputs": [],
   "source": [
    "nx = 5\n",
    "ny = 5\n",
    "nz = 5\n",
    "N = nx*ny*nz                                          # Reservoir size\n",
    "\n",
    "N_read = 10                                           # No. of Readout neurons"
   ]
  },
  {
   "cell_type": "markdown",
   "id": "25d0d778",
   "metadata": {
    "ExecuteTime": {
     "end_time": "2021-10-23T12:37:57.345267Z",
     "start_time": "2021-10-23T12:37:57.330268Z"
    }
   },
   "source": [
    "Important constants related to LIF neuron and synaptic model"
   ]
  },
  {
   "cell_type": "code",
   "execution_count": null,
   "id": "01218be7",
   "metadata": {
    "ExecuteTime": {
     "end_time": "2021-11-23T08:18:14.989920Z",
     "start_time": "2021-11-23T08:18:14.989920Z"
    }
   },
   "outputs": [],
   "source": [
    "global vrest, vth, t_refrac\n",
    "vrest, vth, t_refrac = 0, 20, 2\n",
    "\n",
    "tau_m = 32\n",
    "params_potential = {'C':1, 'g_L':1/tau_m, 'E_L':vrest, 'V_T':vth, 'R_p':t_refrac}\n",
    "\n",
    "Delay = 1 #constant delay for all synapses in ms\n",
    "\n",
    "tau_c = 64\n",
    "C_theta = 5\n",
    "del_C = 3\n",
    "n_bits = 8\n",
    "delta_c = 1\n",
    "params_conc = {'C_theta':C_theta, 'del_C':del_C, 'tau_c':64, 'nbits':n_bits, 'delta_c':delta_c}\n",
    "\n",
    "syn_string = \"first-order\"\n",
    "\n",
    "sampling_freq = 12.5 # in khz\n",
    "h = 1 # in ms\n",
    "\n",
    "time_params = {'h':h, 'Delay':Delay}"
   ]
  },
  {
   "cell_type": "markdown",
   "id": "0fd3f44f",
   "metadata": {},
   "source": [
    "Set Reservoir Connections"
   ]
  },
  {
   "cell_type": "code",
   "execution_count": null,
   "id": "1bbe75ad",
   "metadata": {
    "ExecuteTime": {
     "end_time": "2021-11-23T08:18:14.989920Z",
     "start_time": "2021-11-23T08:18:14.989920Z"
    }
   },
   "outputs": [],
   "source": [
    "# Storing the IDs of the neurons\n",
    "LSM_ID = np.zeros((nx,ny,nz),dtype=np.int64)\n",
    "l = 0\n",
    "for i in range(nx):\n",
    "    for j in range(ny):\n",
    "        for k in range(nz):\n",
    "            LSM_ID[i,j,k] = l\n",
    "            l = l + 1\n",
    "\n",
    "# Storing the synapse connections, and creating the initial weight matrix\n",
    "\n",
    "k_prob = [0.45, 0.3, 0.6, 0.15]\n",
    "r_sq = 2**2\n",
    "\n",
    "W_arr = [3, 6, -2, -2]\n",
    "W_init = 3\n",
    "Weights_temp = np.zeros((N,N))\n",
    "\n",
    "N_in = int(N*0.8)\n",
    "neuron_type = [ int(i<N_in) for i in range(N)]\n",
    "seed(4)\n",
    "shuffle(neuron_type) # 1 for excitatory, 0 for inhibitory\n",
    "\n",
    "synapes = [dict() for i in range(N)]    # an array of dictonaries which store the location of neuron, \n",
    "                                        # type of neuron, and the IDs of the neurons it is connected to\n",
    "\n",
    "for l in range(N):\n",
    "    loc = ID_to_ind(nx,ny,nz,l)\n",
    "    n_type = neuron_type[l]\n",
    "    cons = []\n",
    "    for i in range(nx):\n",
    "        for j in range(ny):\n",
    "            for k in range(nz):\n",
    "                if l != int(LSM_ID[i,j,k]):\n",
    "                    dist_sq = (loc[0]-i)**2 + (loc[1]-j)**2 + (loc[2]-k)**2\n",
    "                    k_probl = 0\n",
    "                    if n_type == 1:\n",
    "                      if neuron_type[int(LSM_ID[i,j,k])] == 1:\n",
    "                        k_probl = k_prob[0]\n",
    "                        W_init = W_arr[0]\n",
    "                      else:\n",
    "                        k_probl = k_prob[1]\n",
    "                        W_init = W_arr[1]\n",
    "                    else:\n",
    "                      if neuron_type[int(LSM_ID[i,j,k])] == 1:\n",
    "                        k_probl = k_prob[2]\n",
    "                        W_init = W_arr[2]\n",
    "                      else:\n",
    "                        k_probl = k_prob[3]\n",
    "                        W_init = W_arr[3]\n",
    "\n",
    "                    probability = k_probl* exp(-1*dist_sq/r_sq)\n",
    "#                     print(probability)\n",
    "                    check = binomial(1,probability)\n",
    "                    if check == 1:\n",
    "                        cons.append(int(LSM_ID[i,j,k]))\n",
    "                        Weights_temp[l,int(LSM_ID[i,j,k])] = W_init    \n",
    "    synapes[l] = {\"Location\":loc, \"Neuron_type\":n_type, \"connections\":cons}\n",
    "\n",
    "global Weights\n",
    "Weights = Weights_temp\n",
    "print(\"Total synapse:\", len(np.argwhere(Weights!=0)), \n",
    "        \",E --> E :\", len(np.argwhere(Weights==3)), \n",
    "        \",E --> I:\",len(np.argwhere(Weights==6)),\n",
    "        \",I --> E/I:\",len(np.argwhere(Weights==-2)))\n",
    "i = 64\n",
    "print(\"Total Connections: for neuron {}:{}, {}\".format(i,synapes[i][\"Neuron_type\"],synapes[i][\"connections\"]) )"
   ]
  },
  {
   "cell_type": "code",
   "execution_count": null,
   "id": "3ff18bf1",
   "metadata": {
    "ExecuteTime": {
     "end_time": "2021-11-23T08:18:14.989920Z",
     "start_time": "2021-11-23T08:18:14.989920Z"
    }
   },
   "outputs": [],
   "source": [
    "Weights[:,0]"
   ]
  },
  {
   "cell_type": "markdown",
   "id": "3fce89bc",
   "metadata": {
    "ExecuteTime": {
     "end_time": "2021-10-23T13:37:08.001869Z",
     "start_time": "2021-10-23T13:37:07.984870Z"
    }
   },
   "source": [
    "Set Readout neuron initial Weights"
   ]
  },
  {
   "cell_type": "code",
   "execution_count": null,
   "id": "922f943f",
   "metadata": {
    "ExecuteTime": {
     "end_time": "2021-11-23T08:18:15.005553Z",
     "start_time": "2021-11-23T08:18:15.005553Z"
    }
   },
   "outputs": [],
   "source": [
    "All_labels = [str(x) for x in range(10)]\n",
    "# N_read = 10                                           # No. of Readout neurons\n",
    "W_init_read = 1                                       # Initial weight, equal for all, update with learning\n",
    "Weights_temp_readOut = W_init_read*np.ones((N_read, N), dtype='float')\n",
    "\n",
    "\n",
    "synapes_read = []        # an array of dictonaries which store the label of neuron, \n",
    "                                                      # and the IDs of the neurons it is connected to\n",
    "\n",
    "for l in range(N_read):\n",
    "    label = All_labels[l]\n",
    "    synapes_read.append(label)\n",
    "\n",
    "Weights_readOut = Weights_temp_readOut"
   ]
  },
  {
   "cell_type": "code",
   "execution_count": null,
   "id": "800a4d92",
   "metadata": {
    "ExecuteTime": {
     "end_time": "2021-11-23T08:18:15.005553Z",
     "start_time": "2021-11-23T08:18:15.005553Z"
    }
   },
   "outputs": [],
   "source": [
    "# creating file location and label arrays for train and validate\n",
    "\n",
    "base = 'PreProcessing/trainBSA'\n",
    "os.listdir(base)\n",
    "\n",
    "train_Labels = []\n",
    "file_name_List = []\n",
    "\n",
    "for human in os.listdir(base):\n",
    "    base_up = base + '/' + human\n",
    "    for train_sample in os.listdir(base_up):\n",
    "        train_Label = train_sample[0:2]\n",
    "        file_loc = base_up + '/' + train_sample\n",
    "        file_name_List.append(file_loc)\n",
    "        train_Labels.append(train_Label)\n",
    "\n",
    "seedval = 4\n",
    "\n",
    "seed(seedval)\n",
    "shuffle(train_Labels)\n",
    "seed(seedval)\n",
    "shuffle(file_name_List)\n",
    "\n",
    "total_size = len(train_Labels)\n",
    "train_size = int(total_size*0.8)\n",
    "\n",
    "validate_Labels = train_Labels[train_size:total_size]\n",
    "validate_file_list = file_name_List[train_size:total_size]\n",
    "\n",
    "train_Labels = train_Labels[0:train_size]\n",
    "train_file_list = file_name_List[0:train_size]"
   ]
  },
  {
   "cell_type": "code",
   "execution_count": null,
   "id": "6a859ff0",
   "metadata": {
    "ExecuteTime": {
     "end_time": "2021-11-23T08:18:15.005553Z",
     "start_time": "2021-11-23T08:18:15.005553Z"
    }
   },
   "outputs": [],
   "source": [
    "L = 78\n",
    "Fin = 4\n",
    "reservoir_ID = [i for i in range(N)]\n",
    "Input_ID = [i for i in range(L)]\n",
    "seed(seedval)\n",
    "Input_CXNs = choice(reservoir_ID, size = (L,Fin))\n",
    "Input_CXNs = {i:Input_CXNs[i] for i in range(L)}\n",
    "sign_win_matrix = (binomial(1,1/2, size = (L, Fin)) - 0.5)*2\n",
    "# Input_CXNs * sign_win_matrix"
   ]
  },
  {
   "cell_type": "code",
   "execution_count": null,
   "id": "f0571906",
   "metadata": {
    "ExecuteTime": {
     "end_time": "2021-11-23T08:18:15.005553Z",
     "start_time": "2021-11-23T08:18:15.005553Z"
    }
   },
   "outputs": [],
   "source": [
    "Input_fanIn = {}\n",
    "w_in = 8\n",
    "for i in range(N):\n",
    "    Input_fanIn[i] = [[],[]]\n",
    "    for key, CxN in Input_CXNs.items():\n",
    "        an_array = np.where(CxN == i)\n",
    "        if an_array[0].size != 0:\n",
    "            Input_fanIn[i][0].append(key)\n",
    "            Input_fanIn[i][1].append(sign_win_matrix[key, an_array[0]][0])\n",
    "# Input_fanIn            "
   ]
  },
  {
   "cell_type": "code",
   "execution_count": null,
   "id": "59cb22d7",
   "metadata": {
    "ExecuteTime": {
     "end_time": "2021-11-23T08:18:15.005553Z",
     "start_time": "2021-11-23T08:18:15.005553Z"
    }
   },
   "outputs": [],
   "source": [
    "def Input_current_gen(file_name_List, syn_string, N, time_params, training=False, train_Labels=None):\n",
    "    input_num = 0\n",
    "    h, Delay = time_params.values()\n",
    "    for idx in range(len(file_name_List)):\n",
    "        data = pd.read_csv(file_name_List[idx], sep=\",\", header=None)\n",
    "        data_as_numpy = data.to_numpy()\n",
    "        input = data_as_numpy.transpose()   # Single Sample input\n",
    "        (L,M) = input.shape\n",
    "        In_neurons = input   # spike train of L input neurons, over M timesteps, 1 if spike, 0 if no spike\n",
    "        time = np.array([j*h for j in range(M)],dtype=np.float64)\n",
    "\n",
    "\n",
    "                        \n",
    "        train_Label = class_of_sample(train_Labels[idx]) if training else \"Null\"\n",
    "        input_num += 1\n",
    "        yield In_neurons, L, M, train_Label, input_num"
   ]
  },
  {
   "cell_type": "markdown",
   "id": "003effd6",
   "metadata": {},
   "source": [
    "### Finding input neurons to reservoir current and then using the spike train to find the current input to the reservoir"
   ]
  },
  {
   "cell_type": "code",
   "execution_count": null,
   "id": "4d90508d",
   "metadata": {
    "ExecuteTime": {
     "end_time": "2021-11-23T08:18:15.005553Z",
     "start_time": "2021-11-23T08:18:15.005553Z"
    }
   },
   "outputs": [],
   "source": [
    "print(\"Size of Reservoir =\",nx,\"X\",ny,\"X\",nz,\",Total total neurons =\",N)\n",
    "print(\"Total no.of read out neurons =\",N_read)"
   ]
  },
  {
   "cell_type": "code",
   "execution_count": null,
   "id": "b0aa02df",
   "metadata": {
    "ExecuteTime": {
     "end_time": "2021-11-23T08:18:15.021179Z",
     "start_time": "2021-11-23T08:18:15.021179Z"
    }
   },
   "outputs": [],
   "source": [
    "# # if need to exit training load last trained weights\n",
    "# load_idx = 20\n",
    "# Weights_readOut_fromCsv = pd.read_csv(\"Weights/weights_epoch{}.csv\".format(load_idx), sep=\",\", header=None)\n",
    "# Weights_readOut = Weights_readOut_fromCsv.to_numpy()"
   ]
  },
  {
   "cell_type": "markdown",
   "id": "ab9de1be",
   "metadata": {},
   "source": [
    "#### RESERVOIR Functions"
   ]
  },
  {
   "cell_type": "code",
   "execution_count": null,
   "id": "2c139b78",
   "metadata": {
    "ExecuteTime": {
     "end_time": "2021-11-23T08:18:15.021179Z",
     "start_time": "2021-11-23T08:18:15.021179Z"
    }
   },
   "outputs": [],
   "source": [
    "def LIF(V_neuron_prev,I_input,N,h,index_next,index_prev_spike, params):\n",
    "    C, g_L, v_rest, V_T, R_p = params.values()\n",
    "    R_p_ind = np.math.ceil(R_p/h)\n",
    "#     print(\"New\", I_input)\n",
    "    V_neuron_next = v_rest*np.ones((N,), dtype=np.float64)\n",
    "    Spike_next = np.zeros((N,), dtype=np.int64)\n",
    "    V_temp = V_neuron_prev - V_neuron_prev * g_L * h + I_input * h \n",
    "    for i in range(N):\n",
    "            if index_next-index_prev_spike[i] < R_p_ind:\n",
    "                V_neuron_next[i] = v_rest\n",
    "            elif V_temp[i] < V_T:\n",
    "                V_neuron_next[i] = V_temp[i] \n",
    "            else:\n",
    "                Spike_next[i]  = np.int64(1)\n",
    "                V_neuron_next[i] = V_temp[i]\n",
    "    \n",
    "    return V_neuron_next, Spike_next "
   ]
  },
  {
   "cell_type": "code",
   "execution_count": null,
   "id": "343d5e72",
   "metadata": {
    "ExecuteTime": {
     "end_time": "2021-11-23T08:18:15.021179Z",
     "start_time": "2021-11-23T08:18:15.021179Z"
    }
   },
   "outputs": [],
   "source": [
    "def syn_res(syn_string, t, spikes_i,w_ij,del_i,h, type_syn=None):  \n",
    "    # spike in neuron i, produces a synaptic current in neuron j, weight = w_ij\n",
    "\n",
    "    syn_curr = 0\n",
    "    spikes_loc = np.where(spikes_i == 1)\n",
    "\n",
    "    if syn_string == \"static\":\n",
    "        for spike_loc in spikes_loc:\n",
    "            if np.where(spike_loc + np.int64(del_i/h) == t)[0].size != 0: \n",
    "                syn_curr += w_ij/h\n",
    "       \n",
    "    elif syn_string == \"first-order\":\n",
    "        tau_s = 4\n",
    "        for spike_loc in spikes_loc[0]:\n",
    "            if t - spike_loc - np.int64(del_i/h) >= 0:\n",
    "                temp = w_ij/h * (1/tau_s) * np.exp(-(h/tau_s)*(t - spike_loc - np.int64(del_i/h)))\n",
    "                syn_curr += temp \n",
    "\n",
    "               \n",
    "    return syn_curr"
   ]
  },
  {
   "cell_type": "code",
   "execution_count": null,
   "id": "b5b7b58b",
   "metadata": {
    "ExecuteTime": {
     "end_time": "2021-11-23T08:18:15.021179Z",
     "start_time": "2021-11-23T08:18:15.021179Z"
    }
   },
   "outputs": [],
   "source": [
    "def reservoir_solver(N, Delay, synapes, M, h, spike_train, params_potential, Weights, syn_string):\n",
    "\n",
    "    C, g_L, vrest, V_T, R_p = params_potential.values()\n",
    "    \n",
    "    I_syn = np.zeros((N,M),dtype=np.float64)\n",
    "    V_neurons = vrest*np.ones((N,M),dtype=np.float64) # potential of each neuron at every time instant\n",
    "    Spikes = np.zeros((N,M),dtype=np.int64)         # 1 if ith neuron spikes at jth time step\n",
    "\n",
    "    syn_string = \"static\"\n",
    "    \n",
    "    index_prev_spike = -1*(M)*np.ones((N,),dtype=np.int64)\n",
    "\n",
    "    time = np.array([j*h for j in range(M)],dtype=np.float64)\n",
    "    \n",
    "    for t in range(1, M):\n",
    "        for i in range(N):\n",
    "            # Fan in from input spike train at time t\n",
    "            Input_fanIN_now = Input_fanIn[i]\n",
    "#             print(Input_fanIN_now)\n",
    "            Input_current = 0\n",
    "            for j in range(len(Input_fanIN_now[0])):\n",
    "                spikes_i = spike_train[Input_fanIN_now[0][j], :]\n",
    "                w_ij = Input_fanIN_now[1][j] * w_in \n",
    "                Input_current += syn_res(syn_string, t , spikes_i,w_ij,Delay,h)\n",
    "                \n",
    "\n",
    "            # Fan in from reservoir at time t\n",
    "            reservoir_fanIn_now = synapes[i][\"connections\"]\n",
    "            res_current = 0\n",
    "            for j in range(len(reservoir_fanIn_now)):\n",
    "                spikes_i = Spikes[reservoir_fanIn_now[j], :]\n",
    "                w_ij = np.float64(Weights[j,i])\n",
    "                res_current += syn_res(syn_string, t , spikes_i,w_ij,Delay,h)\n",
    "            \n",
    "            I_syn[i, t] = Input_current + res_current  \n",
    "            \n",
    "        # solve for neuron potential and check if spike is produced\n",
    "        V_neuron, Spike = LIF(V_neurons[:,t-1],I_syn[:,t],N,h,t,index_prev_spike, params_potential)  \n",
    "        V_neurons[:,t] = V_neuron\n",
    "        Spikes[:,t] = Spike\n",
    "        \n",
    "        for i in range(N):\n",
    "            if int(Spike[i]) == 1:\n",
    "                index_prev_spike[i] = t\n",
    "    np.set_printoptions(threshold=np.inf)\n",
    "#     print(\"Spikes\", Spikes)\n",
    "#     sleep(1)\n",
    "    return V_neurons, Spikes"
   ]
  },
  {
   "cell_type": "code",
   "execution_count": null,
   "id": "850f6092",
   "metadata": {
    "ExecuteTime": {
     "end_time": "2021-11-23T08:18:15.021179Z",
     "start_time": "2021-11-23T08:18:15.021179Z"
    }
   },
   "outputs": [],
   "source": [
    "Input_fanIn[2]"
   ]
  },
  {
   "cell_type": "code",
   "execution_count": null,
   "id": "4a39c473",
   "metadata": {
    "ExecuteTime": {
     "end_time": "2021-11-23T08:18:15.037818Z",
     "start_time": "2021-11-23T08:18:15.037818Z"
    }
   },
   "outputs": [],
   "source": [
    "All_spikes_dat = {i:{\"Input_spikes\": [], \"Reservoir_spikes\": []} for i in range(len(train_Labels))}\n",
    "for epoch in range(500):\n",
    "    print(\"=\"*50)\n",
    "    Input_gen_func = Input_current_gen(train_file_list, syn_string, N, time_params,training=True, train_Labels=train_Labels)\n",
    "    NUM_INPUTS = len(train_Labels)\n",
    "    \n",
    "    for i in range(NUM_INPUTS):\n",
    "        In_spikes, L, M, train_Label,input_num = next(Input_gen_func)      # Generates next input  \n",
    "#         plot_spikes(In_spikes, L, M)\n",
    "        [Reservoir_potential, Reservoir_Spikes] = reservoir_solver(N, Delay, synapes, M, h, In_spikes, \n",
    "                                                                          params_potential, Weights, syn_string)\n",
    "#         plot_spikes(Reservoir_Spikes, N, M)\n",
    "        All_spikes_dat[train_Label][\"Input_spikes\"].append((In_spikes, L, M)) \n",
    "        All_spikes_dat[train_Label][ \"Reservoir_spikes\"].append((Reservoir_Spikes, N, M)) \n",
    "        print(\"\\n\", \"Training Label:\", train_Label, \"Input number:\", i+1,\n",
    "              \"Res_spikes:\", len(np.argwhere(Reservoir_Spikes==1)), end='')"
   ]
  },
  {
   "cell_type": "markdown",
   "id": "1487a3a9",
   "metadata": {},
   "source": [
    "**All spikes of class 0**"
   ]
  },
  {
   "cell_type": "code",
   "execution_count": null,
   "id": "7793fe7a",
   "metadata": {
    "ExecuteTime": {
     "end_time": "2021-11-23T08:18:15.037818Z",
     "start_time": "2021-11-23T08:18:15.037818Z"
    }
   },
   "outputs": [],
   "source": [
    "label_now = 0\n",
    "for i in range(len(All_spikes_dat[label_now][\"Input_spikes\"])):\n",
    "    print(\"=\"*50)\n",
    "    In_spikes, L, M = All_spikes_dat[label_now][\"Input_spikes\"][i]\n",
    "    plot_spikes(In_spikes, L, M )\n",
    "    Reservoir_Spikes, N, M = All_spikes_dat[label_now][\"Reservoir_spikes\"][i]\n",
    "    plot_spikes(Reservoir_Spikes, N, M)\n",
    "    print(M)"
   ]
  },
  {
   "cell_type": "markdown",
   "id": "6e34814d",
   "metadata": {},
   "source": [
    "**All spikes of class 3**"
   ]
  },
  {
   "cell_type": "code",
   "execution_count": null,
   "id": "89f1df1a",
   "metadata": {
    "ExecuteTime": {
     "end_time": "2021-11-23T08:18:15.037818Z",
     "start_time": "2021-11-23T08:18:15.037818Z"
    }
   },
   "outputs": [],
   "source": [
    "label_now = 3\n",
    "for i in range(len(All_spikes_dat[label_now][\"Input_spikes\"])):\n",
    "    print(\"=\"*50)\n",
    "    In_spikes, L, M = All_spikes_dat[label_now][\"Input_spikes\"][i]\n",
    "    plot_spikes(In_spikes, L, M )\n",
    "    Reservoir_Spikes, N, M = All_spikes_dat[label_now][\"Reservoir_spikes\"][i]\n",
    "    plot_spikes(Reservoir_Spikes, N, M)"
   ]
  },
  {
   "cell_type": "markdown",
   "id": "6c6b0187",
   "metadata": {},
   "source": [
    "**All spikes of class 6**"
   ]
  },
  {
   "cell_type": "code",
   "execution_count": null,
   "id": "cf6fff69",
   "metadata": {
    "ExecuteTime": {
     "end_time": "2021-11-23T08:18:15.037818Z",
     "start_time": "2021-11-23T08:18:15.037818Z"
    }
   },
   "outputs": [],
   "source": [
    "label_now = 6\n",
    "for i in range(len(All_spikes_dat[label_now][\"Input_spikes\"])):\n",
    "    print(\"=\"*50)\n",
    "    In_spikes, L, M = All_spikes_dat[label_now][\"Input_spikes\"][i]\n",
    "    plot_spikes(In_spikes, L, M )\n",
    "    Reservoir_Spikes, N, M = All_spikes_dat[label_now][\"Reservoir_spikes\"][i]\n",
    "    plot_spikes(Reservoir_Spikes, N, M)"
   ]
  },
  {
   "cell_type": "markdown",
   "id": "e16cac6c",
   "metadata": {},
   "source": [
    "**All spikes of class 9**"
   ]
  },
  {
   "cell_type": "code",
   "execution_count": null,
   "id": "e525a5f8",
   "metadata": {
    "ExecuteTime": {
     "end_time": "2021-11-23T08:18:15.037818Z",
     "start_time": "2021-11-23T08:18:15.037818Z"
    }
   },
   "outputs": [],
   "source": [
    "label_now = 9\n",
    "for i in range(len(All_spikes_dat[label_now][\"Input_spikes\"])):\n",
    "    print(\"=\"*50)\n",
    "    In_spikes, L, M = All_spikes_dat[label_now][\"Input_spikes\"][i]\n",
    "    plot_spikes(In_spikes, L, M )\n",
    "    Reservoir_Spikes, N, M = All_spikes_dat[label_now][\"Reservoir_spikes\"][i]\n",
    "    plot_spikes(Reservoir_Spikes, N, M)"
   ]
  },
  {
   "cell_type": "markdown",
   "id": "905b5f44",
   "metadata": {},
   "source": [
    "**Linear Classifier**<br>\n",
    "Fisher’s Discriminant Ratio"
   ]
  },
  {
   "cell_type": "code",
   "execution_count": null,
   "id": "de07d74c",
   "metadata": {
    "ExecuteTime": {
     "end_time": "2021-11-23T08:18:15.052830Z",
     "start_time": "2021-11-23T08:18:15.052830Z"
    }
   },
   "outputs": [],
   "source": [
    "def linear_trainer(All_spikes_dat, class_labels):\n",
    "    \n",
    "    for i in range(len(All_spikes_dat[label_now][\"Reservor_spikes\"])):\n",
    "        \n",
    "        \n",
    "        \n",
    "        "
   ]
  }
 ],
 "metadata": {
  "kernelspec": {
   "display_name": "Python 3 (ipykernel)",
   "language": "python",
   "name": "python3"
  },
  "language_info": {
   "codemirror_mode": {
    "name": "ipython",
    "version": 3
   },
   "file_extension": ".py",
   "mimetype": "text/x-python",
   "name": "python",
   "nbconvert_exporter": "python",
   "pygments_lexer": "ipython3",
   "version": "3.7.10"
  }
 },
 "nbformat": 4,
 "nbformat_minor": 5
}
