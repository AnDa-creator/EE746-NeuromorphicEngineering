{
  "nbformat": 4,
  "nbformat_minor": 0,
  "metadata": {
    "colab": {
      "name": "SpeechPreprocessing.ipynb",
      "provenance": [],
      "collapsed_sections": []
    },
    "kernelspec": {
      "display_name": "Python 3",
      "name": "python3"
    },
    "language_info": {
      "name": "python"
    }
  },
  "cells": [
    {
      "cell_type": "code",
      "metadata": {
        "colab": {
          "base_uri": "https://localhost:8080/"
        },
        "id": "thYb5YrML4GZ",
        "outputId": "dc7212df-a793-4f5b-f8a9-4dac6d4c0c97"
      },
      "source": [
        "!sudo apt-get install check\n",
        "!pip install lyon\n",
        "\n",
        "import wave\n",
        "import numpy as np\n",
        "import os\n",
        "\n",
        "from lyon.calc import LyonCalc"
      ],
      "execution_count": 11,
      "outputs": [
        {
          "output_type": "stream",
          "name": "stdout",
          "text": [
            "Reading package lists... Done\n",
            "Building dependency tree       \n",
            "Reading state information... Done\n",
            "check is already the newest version (0.10.0-3build2).\n",
            "0 upgraded, 0 newly installed, 0 to remove and 37 not upgraded.\n",
            "Requirement already satisfied: lyon in /usr/local/lib/python3.7/dist-packages (1.0.0)\n",
            "Requirement already satisfied: numpy in /usr/local/lib/python3.7/dist-packages (from lyon) (1.19.5)\n"
          ]
        }
      ]
    },
    {
      "cell_type": "markdown",
      "metadata": {
        "id": "kZdnMb2yo0G9"
      },
      "source": [
        "## Single file"
      ]
    },
    {
      "cell_type": "code",
      "metadata": {
        "id": "89VU54jd0umt"
      },
      "source": [
        "# Read file to get buffer\n",
        "ifile = wave.open(\"ti46_0am1s1t0.wav\")\n",
        "\n",
        "sample_rate = ifile.getframerate()\n",
        "\n",
        "samples = ifile.getnframes()\n",
        "audio = ifile.readframes(samples)\n",
        "\n",
        "# Convert buffer to float32 using NumPy                                                                                 \n",
        "audio_as_np_int16 = np.frombuffer(audio, dtype=np.int16)\n",
        "audio_as_np_float64 = audio_as_np_int16.astype(np.float64)\n",
        "\n",
        "# Normalise float64 array so that values are between -1.0 and +1.0                                                      \n",
        "max_int16 = 2**15\n",
        "audio_normalised = audio_as_np_float64 / max_int16\n",
        "ifile.close()"
      ],
      "execution_count": null,
      "outputs": []
    },
    {
      "cell_type": "code",
      "metadata": {
        "colab": {
          "base_uri": "https://localhost:8080/"
        },
        "id": "FYyFwYk86ux7",
        "outputId": "0b7fa6ec-4475-4f0d-8c71-9ad1cf8503ca"
      },
      "source": [
        "audio_normalised.shape"
      ],
      "execution_count": null,
      "outputs": [
        {
          "output_type": "execute_result",
          "data": {
            "text/plain": [
              "(11264,)"
            ]
          },
          "metadata": {},
          "execution_count": 5
        }
      ]
    },
    {
      "cell_type": "code",
      "metadata": {
        "colab": {
          "base_uri": "https://localhost:8080/"
        },
        "id": "MIt2XVtNx_Kd",
        "outputId": "56a876d9-5deb-4d5c-a9c6-f1a95eb81cc7"
      },
      "source": [
        "calc = LyonCalc()\n",
        "decimation_factor = 64\n",
        "coch = calc.lyon_passive_ear(audio_normalised, sample_rate, decimation_factor)\n",
        "print(coch.shape)"
      ],
      "execution_count": null,
      "outputs": [
        {
          "output_type": "stream",
          "name": "stdout",
          "text": [
            "(176, 78)\n"
          ]
        }
      ]
    },
    {
      "cell_type": "code",
      "metadata": {
        "id": "TtO4wn3p3ARb"
      },
      "source": [
        "np.savetxt('array.csv', coch, delimiter=',')"
      ],
      "execution_count": null,
      "outputs": []
    },
    {
      "cell_type": "markdown",
      "metadata": {
        "id": "rMVNX6I3otJp"
      },
      "source": [
        "## Multiple Files"
      ]
    },
    {
      "cell_type": "code",
      "metadata": {
        "id": "K20c-VwfoA-8"
      },
      "source": [
        "!unzip train.zip"
      ],
      "execution_count": null,
      "outputs": []
    },
    {
      "cell_type": "code",
      "metadata": {
        "id": "aJCJZZ76pCm_"
      },
      "source": [
        "def read_file(name):\n",
        "  # Read file to get buffer\n",
        "  ifile = wave.open(name)\n",
        "\n",
        "  sample_rate = ifile.getframerate()\n",
        "\n",
        "  samples = ifile.getnframes()\n",
        "  audio = ifile.readframes(samples)\n",
        "\n",
        "  # Convert buffer to float32 using NumPy                                                                                 \n",
        "  audio_as_np_int16 = np.frombuffer(audio, dtype=np.int16)\n",
        "  audio_as_np_float64 = audio_as_np_int16.astype(np.float64)\n",
        "\n",
        "  # Normalise float64 array so that values are between -1.0 and +1.0                                                      \n",
        "  max_int16 = 2**15\n",
        "  audio_normalised = audio_as_np_float64 / max_int16\n",
        "  ifile.close()\n",
        "  return (audio_normalised, sample_rate)"
      ],
      "execution_count": 8,
      "outputs": []
    },
    {
      "cell_type": "code",
      "metadata": {
        "id": "NR2lSODKowJA"
      },
      "source": [
        "for i in [\"f\", \"m\"]:\n",
        "  for j in [1, 2, 3]:\n",
        "    foldername = \"traincsv/\" + i + str(j) + \"/\"\n",
        "    os.makedirs(os.path.dirname(foldername), exist_ok=True)\n",
        "    for k in range(10):\n",
        "      for l in range(10):\n",
        "        filepath = \"train/\" + i + str(j) + \"/0\" + str(k) + i + str(j) + \"set\" + str(l) + \".wav\"\n",
        "        csvpath = \"traincsv/\" + i + str(j) + \"/0\" + str(k) + i + str(j) + \"set\" + str(l) + \".csv\"\n",
        "        audio_normalised, sample_rate = read_file(filepath)\n",
        "        calc = LyonCalc()\n",
        "        decimation_factor = 64\n",
        "        coch = calc.lyon_passive_ear(audio_normalised, sample_rate, decimation_factor)\n",
        "        np.savetxt(csvpath, coch, delimiter=',')\n",
        "        print(csvpath)\n"
      ],
      "execution_count": null,
      "outputs": []
    },
    {
      "cell_type": "code",
      "metadata": {
        "id": "ZXpKIlvBtZS0"
      },
      "source": [
        "!zip -r traincsv.zip traincsv"
      ],
      "execution_count": null,
      "outputs": []
    }
  ]
}