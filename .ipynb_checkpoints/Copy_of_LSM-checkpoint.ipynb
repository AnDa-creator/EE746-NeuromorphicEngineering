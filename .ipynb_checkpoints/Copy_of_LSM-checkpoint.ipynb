{
 "cells": [
  {
   "cell_type": "code",
   "execution_count": 1,
   "metadata": {
    "ExecuteTime": {
     "end_time": "2021-11-29T14:33:54.342990Z",
     "start_time": "2021-11-29T14:33:54.329988Z"
    },
    "id": "-yxpv4eq3PFK"
   },
   "outputs": [],
   "source": [
    "# Recursive Code to find loop paths (Reference - StackOverflow - https://stackoverflow.com/a/66439430)\n",
    "\n",
    "def cycles_rec(root, current_node, graph, depth, visited, min_depth, max_depth):\n",
    "    depth += 1\n",
    "\n",
    "    # First part our stop conditions\n",
    "    if current_node in visited or current_node not in graph.keys():\n",
    "        return ''\n",
    "\n",
    "    if depth >= max_depth:\n",
    "        return ''\n",
    "\n",
    "    visited.append(current_node)\n",
    "\n",
    "    if root in graph[current_node] and depth >= min_depth:\n",
    "        return current_node\n",
    "\n",
    "    # The recursive part\n",
    "    # for each connection we try to find recursively one that would cycle back to our root\n",
    "    for connections in graph[current_node]:\n",
    "        for connection in connections:\n",
    "            result = cycles_rec(root, connection, graph, depth, visited, min_depth, max_depth)\n",
    "            # If a match was found, it would \"bubble up\" here, we can return it along with the\n",
    "            # current connection that \"found it\"\n",
    "            if result != '':\n",
    "                return current_node + ' ' + result\n",
    "\n",
    "    # If we are here we found no cycle        \n",
    "    return ''\n",
    "\n",
    "def cycles(graph, min_depth = 3, max_depth = 5):\n",
    "    cycles = {}\n",
    "    for node, connections in graph.items():\n",
    "        for connection in connections:\n",
    "            visited = []\n",
    "            # Let the recursion begin here\n",
    "            result = cycles_rec(node, connection, graph, 1, visited, min_depth, max_depth)\n",
    "            if result == '':\n",
    "                continue \n",
    "            # Here we found a cycle.\n",
    "            # Fingerprint is only necessary in order to not repeat the cycles found in the results\n",
    "            # It could be ignored if repeating them is not important\n",
    "            # It's based on the fact that nodes are all represented as letters here\n",
    "            # It could be it's own function returning a hash for example if nodes have a more\n",
    "            # complex representation\n",
    "            fingerprint = ''.join(sorted(list(node + ' ' + result)))\n",
    "            if fingerprint not in cycles.keys():\n",
    "                cycles[fingerprint] = node + ' ' + result\n",
    "\n",
    "    return list(cycles.values())"
   ]
  },
  {
   "cell_type": "code",
   "execution_count": 2,
   "metadata": {
    "ExecuteTime": {
     "end_time": "2021-11-29T14:33:54.940032Z",
     "start_time": "2021-11-29T14:33:54.818025Z"
    },
    "id": "FWUX1ClD7lAY",
    "scrolled": true
   },
   "outputs": [
    {
     "ename": "NameError",
     "evalue": "name 'N' is not defined",
     "output_type": "error",
     "traceback": [
      "\u001b[1;31m---------------------------------------------------------------------------\u001b[0m",
      "\u001b[1;31mNameError\u001b[0m                                 Traceback (most recent call last)",
      "\u001b[1;32m~\\AppData\\Local\\Temp/ipykernel_12368/1479148748.py\u001b[0m in \u001b[0;36m<module>\u001b[1;34m\u001b[0m\n\u001b[0;32m      1\u001b[0m \u001b[0mgraph1\u001b[0m \u001b[1;33m=\u001b[0m \u001b[1;33m{\u001b[0m\u001b[1;33m}\u001b[0m\u001b[1;33m\u001b[0m\u001b[1;33m\u001b[0m\u001b[0m\n\u001b[0;32m      2\u001b[0m \u001b[1;33m\u001b[0m\u001b[0m\n\u001b[1;32m----> 3\u001b[1;33m \u001b[1;32mfor\u001b[0m \u001b[0mi\u001b[0m \u001b[1;32min\u001b[0m \u001b[0mrange\u001b[0m\u001b[1;33m(\u001b[0m\u001b[0mN\u001b[0m\u001b[1;33m)\u001b[0m\u001b[1;33m:\u001b[0m\u001b[1;33m\u001b[0m\u001b[1;33m\u001b[0m\u001b[0m\n\u001b[0m\u001b[0;32m      4\u001b[0m   \u001b[0mtemplc1\u001b[0m \u001b[1;33m=\u001b[0m \u001b[1;33m[\u001b[0m\u001b[1;33m]\u001b[0m\u001b[1;33m;\u001b[0m\u001b[1;33m\u001b[0m\u001b[1;33m\u001b[0m\u001b[0m\n\u001b[0;32m      5\u001b[0m   \u001b[1;32mfor\u001b[0m \u001b[0mj\u001b[0m \u001b[1;32min\u001b[0m \u001b[0msynapes\u001b[0m\u001b[1;33m[\u001b[0m\u001b[0mi\u001b[0m\u001b[1;33m]\u001b[0m\u001b[1;33m[\u001b[0m\u001b[1;34m\"connections\"\u001b[0m\u001b[1;33m]\u001b[0m\u001b[1;33m:\u001b[0m\u001b[1;33m\u001b[0m\u001b[1;33m\u001b[0m\u001b[0m\n",
      "\u001b[1;31mNameError\u001b[0m: name 'N' is not defined"
     ]
    }
   ],
   "source": [
    "graph1 = {}\n",
    "\n",
    "for i in range(N):\n",
    "  templc1 = [];\n",
    "  for j in synapes[i][\"connections\"]:\n",
    "    templc1.append(str(j))\n",
    "  graph1[str(i)] = templc1"
   ]
  },
  {
   "cell_type": "code",
   "execution_count": 3,
   "metadata": {
    "ExecuteTime": {
     "end_time": "2021-11-29T14:33:55.114045Z",
     "start_time": "2021-11-29T14:33:55.099044Z"
    },
    "colab": {
     "base_uri": "https://localhost:8080/"
    },
    "id": "K3Y09Orx912P",
    "outputId": "3e7e2a73-89f2-4fb8-960d-94bfd2c321a2"
   },
   "outputs": [
    {
     "name": "stdout",
     "output_type": "stream",
     "text": [
      "Cycles with length = 0 is 0\n",
      "Cycles with length = 1 is 0\n",
      "Cycles with length = 2 is 0\n",
      "Cycles with length = 3 is 0\n",
      "Cycles with length = 4 is 0\n",
      "Cycles with length = 5 is 0\n",
      "Cycles with length = 6 is 0\n",
      "Cycles with length = 7 is 0\n",
      "Cycles with length = 8 is 0\n",
      "Cycles with length = 9 is 0\n",
      "Cycles with length = 10 is 0\n",
      "Cycles with length = 11 is 0\n",
      "Cycles with length = 12 is 0\n",
      "Cycles with length = 13 is 0\n",
      "Cycles with length = 14 is 0\n"
     ]
    }
   ],
   "source": [
    "LoopLim = 15\n",
    "\n",
    "looplength = [];\n",
    "for i in range(LoopLim):\n",
    "  numofloop = len(cycles(graph1, i, i+1))\n",
    "  print('Cycles with length = ' + str(i) + ' is ' + str(numofloop))\n",
    "  looplength.append(numofloop)"
   ]
  },
  {
   "cell_type": "code",
   "execution_count": null,
   "metadata": {
    "colab": {
     "base_uri": "https://localhost:8080/",
     "height": 418
    },
    "id": "L42VKmeS_00Q",
    "outputId": "6d8608d4-407a-4f7f-d58f-ea354ca8f8f3"
   },
   "outputs": [
    {
     "data": {
      "image/png": "[encoded data removed]",
      "text/plain": [
       "<Figure size 1382.4x345.6 with 1 Axes>"
      ]
     },
     "metadata": {
      "needs_background": "light"
     },
     "output_type": "display_data"
    }
   ],
   "source": [
    "fig = plt.figure()\n",
    "ax = fig.add_axes([0,0,0.5,1])\n",
    "ax.bar(range(LoopLim),looplength)\n",
    "ax.set_ylabel(\"Number of Loops\")\n",
    "ax.set_xlabel(\"Loop Length\")\n",
    "ax.xaxis.label.set_size(20)\n",
    "ax.yaxis.label.set_size(20)\n",
    "ax.tick_params(axis='both', which='major', labelsize=15)\n",
    "plt.show()"
   ]
  }
 ],
 "metadata": {
  "colab": {
   "collapsed_sections": [],
   "name": "Copy of LSM_BioLearning.ipynb",
   "provenance": []
  },
  "interpreter": {
   "hash": "cb34221c29cbd393528f59737984b7cee90fecb74dfd32a425a37477f31f3c8a"
  },
  "kernelspec": {
   "display_name": "Python 3 (ipykernel)",
   "language": "python",
   "name": "python3"
  },
  "language_info": {
   "codemirror_mode": {
    "name": "ipython",
    "version": 3
   },
   "file_extension": ".py",
   "mimetype": "text/x-python",
   "name": "python",
   "nbconvert_exporter": "python",
   "pygments_lexer": "ipython3",
   "version": "3.7.10"
  }
 },
 "nbformat": 4,
 "nbformat_minor": 1
}
