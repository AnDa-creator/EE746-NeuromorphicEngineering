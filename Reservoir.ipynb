{
 "cells": [
  {
   "cell_type": "code",
   "execution_count": 15,
   "metadata": {},
   "outputs": [],
   "source": [
    "import tensorflow as tf\n",
    "import numpy as np\n",
    "from math import exp\n",
    "from numpy.random import binomial\n",
    "from random import shuffle\n",
    "\n",
    "nx = 5\n",
    "ny = 5\n",
    "nz = 5\n",
    "N = nx*ny*nz"
   ]
  },
  {
   "cell_type": "code",
   "execution_count": 16,
   "metadata": {},
   "outputs": [],
   "source": [
    "# Initializing the neurons\n",
    "LSM_neurons = np.zeros((nx,ny,nz),np.float64)\n",
    "LSM_neurons = tf.convert_to_tensor(LSM_neurons,dtype=tf.float64)\n",
    "# print(LSM_neurons)"
   ]
  },
  {
   "cell_type": "code",
   "execution_count": 17,
   "metadata": {},
   "outputs": [],
   "source": [
    "# Storing the IDs of the neurons\n",
    "LSM_ID = np.zeros((nx,ny,nz),dtype=np.int64)\n",
    "l = 0\n",
    "for i in range(5):\n",
    "    for j in range(5):\n",
    "        for k in range(5):\n",
    "            LSM_ID[i,j,k] = l\n",
    "            l = l + 1;\n",
    "\n",
    "LSM_ID = tf.convert_to_tensor(LSM_ID,dtype=tf.int64)\n",
    "# print(LSM_ID)"
   ]
  },
  {
   "cell_type": "code",
   "execution_count": 18,
   "metadata": {},
   "outputs": [],
   "source": [
    "# Storing the synapse connections\n",
    "k_prob = 1\n",
    "r_sq = 1**2\n",
    "\n",
    "N_in = int(N*0.8)\n",
    "neuron_type = [ int(i<N_in) for i in range(N)]\n",
    "shuffle(neuron_type) # 1 for excitatory, 0 for inhibitory\n",
    "\n",
    "synapes = [dict() for i in range(N)]    # an array of dictonaries which store the location of neuron, type of neuron and the IDs of the neurons it is connected to\n",
    "\n",
    "for l in range(N):\n",
    "    x = int(l/25)\n",
    "    y = int( (l-25*x) / 5)\n",
    "    z = int(l%5)\n",
    "    loc = [x,y,z]\n",
    "    n_type = neuron_type[l]\n",
    "    cons = []\n",
    "    for i in range(nx):\n",
    "        for j in range(ny):\n",
    "            for k in range(nz):\n",
    "                dist_sq = (x-i)**2 + (y-j)**2 + (z-k)**2\n",
    "                probability = k_prob* exp(-1*dist_sq/r_sq)\n",
    "                check = binomial(1,probability)\n",
    "                if check == 1:\n",
    "                    cons.append(int(LSM_ID[i,j,k]))\n",
    "    \n",
    "    synapes[l] = {\"Location\":loc, \"Neuron_type\":n_type, \"connections\":cons}\n",
    "\n",
    "# print(synapes)"
   ]
  },
  {
   "cell_type": "code",
   "execution_count": 13,
   "metadata": {},
   "outputs": [
    {
     "name": "stdout",
     "output_type": "stream",
     "text": [
      "100\n"
     ]
    }
   ],
   "source": []
  }
 ],
 "metadata": {
  "interpreter": {
   "hash": "cb34221c29cbd393528f59737984b7cee90fecb74dfd32a425a37477f31f3c8a"
  },
  "kernelspec": {
   "display_name": "Python 3.9.6 64-bit",
   "name": "python3"
  },
  "language_info": {
   "codemirror_mode": {
    "name": "ipython",
    "version": 3
   },
   "file_extension": ".py",
   "mimetype": "text/x-python",
   "name": "python",
   "nbconvert_exporter": "python",
   "pygments_lexer": "ipython3",
   "version": "3.9.6"
  },
  "orig_nbformat": 4
 },
 "nbformat": 4,
 "nbformat_minor": 2
}
