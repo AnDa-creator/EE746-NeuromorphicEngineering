{
 "cells": [
  {
   "cell_type": "code",
   "execution_count": 1,
   "metadata": {
    "ExecuteTime": {
     "end_time": "2021-10-15T14:42:01.314928Z",
     "start_time": "2021-10-15T14:41:53.522176Z"
    }
   },
   "outputs": [
    {
     "name": "stdout",
     "output_type": "stream",
     "text": [
      "Num GPUs Available:  0\n"
     ]
    }
   ],
   "source": [
    "import tensorflow as tf\n",
    "import numpy as np\n",
    "from math import exp\n",
    "from numpy.random import binomial\n",
    "from random import shuffle\n",
    "\n",
    "nx = 5\n",
    "ny = 5\n",
    "nz = 5\n",
    "N = nx*ny*nz\n",
    "print(\"Num GPUs Available: \", len(tf.config.list_physical_devices('GPU')))"
   ]
  },
  {
   "cell_type": "code",
   "execution_count": 2,
   "metadata": {
    "ExecuteTime": {
     "end_time": "2021-10-15T14:42:04.306467Z",
     "start_time": "2021-10-15T14:42:01.318928Z"
    }
   },
   "outputs": [],
   "source": [
    "# Initializing the neurons\n",
    "# LSM_neurons = tf.zeros((nx,ny,nz),dtype=tf.float64)\n",
    "\n",
    "# print(LSM_neurons)"
   ]
  },
  {
   "cell_type": "code",
   "execution_count": 3,
   "metadata": {
    "ExecuteTime": {
     "end_time": "2021-10-15T14:42:04.322567Z",
     "start_time": "2021-10-15T14:42:04.308466Z"
    }
   },
   "outputs": [],
   "source": [
    "# Storing the IDs of the neurons\n",
    "LSM_ID = np.zeros((nx,ny,nz),dtype=np.int64)\n",
    "l = 0\n",
    "for i in range(nx):\n",
    "    for j in range(ny):\n",
    "        for k in range(nz):\n",
    "            LSM_ID[i,j,k] = l\n",
    "            l = l + 1\n",
    "\n",
    "LSM_ID = tf.convert_to_tensor(LSM_ID,dtype=tf.int64)\n",
    "# print(LSM_ID)"
   ]
  },
  {
   "cell_type": "code",
   "execution_count": 4,
   "metadata": {},
   "outputs": [],
   "source": [
    "def ID_to_ind(nx,ny,nz,ID):\n",
    "    x = int(ID/(ny*nz))\n",
    "    y = int( (ID-(ny*nz)*x) / nz)\n",
    "    z = int(ID%nz)\n",
    "    return [x, y, z]"
   ]
  },
  {
   "cell_type": "code",
   "execution_count": 37,
   "metadata": {
    "ExecuteTime": {
     "end_time": "2021-10-15T14:42:04.744088Z",
     "start_time": "2021-10-15T14:42:04.324569Z"
    }
   },
   "outputs": [],
   "source": [
    "# Storing the synapse connections, and creating the initial weight matrix\n",
    "k_prob = 1\n",
    "r_sq = 1**2\n",
    "\n",
    "W_init = 100 # initial weight\n",
    "Weights = np.zeros((N,N))\n",
    "\n",
    "N_in = int(N*0.8)\n",
    "neuron_type = [ int(i<N_in) for i in range(N)]\n",
    "shuffle(neuron_type) # 1 for excitatory, 0 for inhibitory\n",
    "\n",
    "synapes = [dict() for i in range(N)]    # an array of dictonaries which store the location of neuron, type of neuron, and the IDs of the neurons it is connected to\n",
    "\n",
    "for l in range(N):\n",
    "    loc = ID_to_ind(nx,ny,nz,l)\n",
    "    n_type = neuron_type[l]\n",
    "    cons = []\n",
    "    for i in range(nx):\n",
    "        for j in range(ny):\n",
    "            for k in range(nz):\n",
    "                if l != int(LSM_ID[i,j,k]):\n",
    "                    dist_sq = (loc[0]-i)**2 + (loc[1]-j)**2 + (loc[2]-k)**2\n",
    "                    probability = k_prob* exp(-1*dist_sq/r_sq)\n",
    "                    check = binomial(1,probability)\n",
    "                    if check == 1:\n",
    "                        cons.append(int(LSM_ID[i,j,k]))\n",
    "                        Weights[l,int(LSM_ID[i,j,k])] = W_init    \n",
    "    synapes[l] = {\"Location\":loc, \"Neuron_type\":n_type, \"connections\":cons}\n",
    "\n",
    "Weights = tf.convert_to_tensor(Weights,dtype=tf.float64)"
   ]
  },
  {
   "cell_type": "code",
   "execution_count": null,
   "metadata": {
    "ExecuteTime": {
     "end_time": "2021-10-15T14:42:09.863057Z",
     "start_time": "2021-10-15T14:42:04.746089Z"
    }
   },
   "outputs": [],
   "source": [
    "from brian2 import *"
   ]
  },
  {
   "cell_type": "markdown",
   "metadata": {},
   "source": [
    "#### Simplified model in paper(IEEE ZHANG et al)\n",
    "Effect of Synaptic models **Section V(A), eqns -- 19, 20, 21**"
   ]
  },
  {
   "cell_type": "code",
   "execution_count": null,
   "metadata": {
    "ExecuteTime": {
     "end_time": "2021-10-15T14:52:45.654766Z",
     "start_time": "2021-10-15T14:52:45.642766Z"
    },
    "code_folding": []
   },
   "outputs": [],
   "source": [
    "from exceptions import ValueError\n",
    "global vrest, vth, t_refrac\n",
    "vrest, vth, t_refrac = -70, 20, 2"
   ]
  },
  {
   "cell_type": "markdown",
   "metadata": {},
   "source": [
    "#### LIF Neuron single step solver\n",
    "Converted from MATLAB.  Modified version of LIF solver for HW1, with N neurons and refractory period added, solves just a single timestep "
   ]
  },
  {
   "cell_type": "code",
   "execution_count": 111,
   "metadata": {},
   "outputs": [
    {
     "data": {
      "text/plain": [
       "array([0, 1, 2, 3, 4, 1, 1, 1, 1, 1, 1, 1, 1, 1, 1, 1, 1, 1, 1, 1, 1, 1,\n",
       "       1, 1, 1, 1, 1, 1, 1, 1, 1, 1, 1, 1, 1, 1, 1, 1, 1, 1, 1, 1, 1, 1,\n",
       "       1, 1, 1, 1, 1, 1, 1, 1, 1, 1, 1, 1, 1, 1, 1, 1, 1, 1, 1, 1, 1, 1,\n",
       "       1, 1, 1, 1, 1, 1, 1, 1, 1, 1, 1, 1, 1, 1, 1, 1, 1, 1, 1, 1, 1, 1,\n",
       "       1, 1, 1, 1, 1, 1, 1, 1, 1, 1, 1, 1, 1, 1, 1, 1, 1, 1, 1, 1, 1, 1,\n",
       "       1, 1, 1, 1, 1, 1, 1, 1, 1, 1, 1, 1, 1, 1, 1])"
      ]
     },
     "execution_count": 111,
     "metadata": {},
     "output_type": "execute_result"
    }
   ],
   "source": [
    "temp = np.array([i for i in range(N)])\n",
    "temp[5:N] = 1\n",
    "temp"
   ]
  },
  {
   "cell_type": "code",
   "execution_count": 70,
   "metadata": {
    "ExecuteTime": {
     "end_time": "2021-10-15T14:42:09.879061Z",
     "start_time": "2021-10-15T14:42:09.866060Z"
    },
    "code_folding": []
   },
   "outputs": [],
   "source": [
    "params = {'C':300, 'g_L':30, 'E_L':-70, 'V_T':20, 'R_p':2}\n",
    "C, g_L, E_L, V_T, R_p = params.values()\n",
    "def LIF(V_neuron_prev,I_input_prev,I_input_next,N,h,index_next,index_prev_spike, params):\n",
    "    C, g_L, E_L, V_T, R_p = params.values()\n",
    "    R_p_ind = tf.math.ceil(R_p/h)\n",
    "    \n",
    "    V_neuron_next = tf.math.scalar_mul(E_L,tf.ones((N,), dtype='float'))\n",
    "    Spike_next = tf.zeros((N,), dtype='float')\n",
    "    \n",
    "    k1 = (1/C)*(-g_L*(V_neuron_prev-E_L)+I_input_prev)\n",
    "    V_temp = V_neuron_prev + k1*h/2\n",
    "    I_temp = I_input_prev/2 + I_input_next/2\n",
    "    k2 = (1/C)*(-g_L*(V_temp-E_L)+I_temp)\n",
    "    V_temp = V_neuron_prev + k2*h\n",
    "    \n",
    "    for i in range(N):\n",
    "        if index_next-int(index_prev_spike[i]) < R_p_ind:\n",
    "            V_neuron_next = tf.tensor_scatter_nd_update(V_neuron_next,[[i]],[[E_L]])\n",
    "        elif np.float64(V_temp[i]) < V_T:\n",
    "            V_neuron_next = tf.tensor_scatter_nd_update(V_neuron_next,[[i]],[[np.float64(V_temp[i])]])\n",
    "        else:\n",
    "            Spike_next    = tf.tensor_scatter_nd_update(V_neuron_next,[[i]],[[int(1)]]) \n",
    "            V_neuron_next = tf.tensor_scatter_nd_update(V_neuron_next,[[i]],[[np.float64(V_temp[i])]])\n",
    "    \n",
    "    return V_neuron_next, Spike_next\n",
    "    \n",
    "            "
   ]
  },
  {
   "cell_type": "code",
   "execution_count": null,
   "metadata": {
    "ExecuteTime": {
     "end_time": "2021-10-15T14:55:33.774904Z",
     "start_time": "2021-10-15T14:55:33.751903Z"
    },
    "code_folding": []
   },
   "outputs": [],
   "source": [
    "# def syn_res(syn_string, time_ind, spike_timing_mat, h, type_syn=None):\n",
    "def syn_res(syn_string,type_syn,t,time,i,j,w_ij,del_i,h,M):  # spike in neuron i, produces a synaptic current in neuron j, weight = w_ij\n",
    "    syn_curr = np.zeros((M,))\n",
    "\n",
    "    ts_ds = np.float64(time[t]) + del_i\n",
    "    ind = int(np.where(time == ts_ds))\n",
    "    if syn_string == \"static\":\n",
    "        syn_curr[ind] = 1/h\n",
    "        # result_mat = [1 if time_ind == a_spike else 0 for a_spike in spike_timing_mat]\n",
    "        # return result_mat\n",
    "    elif syn_string == \"first-order\":\n",
    "        tau_s = 4 * h # Given in paper\n",
    "        syn_curr[ind:M] = w_ij * (1/tau_s) * np.exp(-(1/tau_s)*(time[ind:M] -ts_ds))\n",
    "        # result_mat = (1/tau_s) * (np.exp(- (time_ind - spike_timing_mat)/tau_s) \n",
    "        # * np.heaviside(time_ind - spike_timing_mat))\n",
    "        # return result_mat\n",
    "    elif syn_string == \"second-order\":\n",
    "        if type_syn is None:\n",
    "            raise ValueError('type required')\n",
    "        elif type_syn == 1:\n",
    "            tau_s1, tau_s2 = 4, 8\n",
    "        elif type_syn == 0:\n",
    "            tau_s1, tau_s2 = 4, 2\n",
    "        else:\n",
    "            raise ValueError('type invalid')\n",
    "        \n",
    "        syn_curr[ind:M] = (w_ij/(tau_s1-tau_s2)) * (np.exp(-(1/tau_s1)*(time[ind:M] -ts_ds)) -np.exp(-(1/tau_s2)*(time[ind:M] -ts_ds)))\n",
    "        # result_mat = ((1/(tau_s1 - tau_s2)) * np.exp(- (time_ind - spike_timing_mat)/tau_s1)\n",
    "        #               * np.heaviside(time_ind - spike_timing_mat)\n",
    "        #               - ((1/(tau_s1 - tau_s2)) * np.exp(- (time_ind - spike_timing_mat)/tau_s2)\n",
    "        #               * np.heaviside(time_ind - spike_timing_mat)))\n",
    "        # return result_mat\n",
    "            \n",
    "    return syn_curr"
   ]
  },
  {
   "cell_type": "markdown",
   "metadata": {},
   "source": [
    "#### Reservoir solver\n",
    "Converted from **MATLAB assignment 3 Q2** neuron solver <br>"
   ]
  },
  {
   "cell_type": "code",
   "execution_count": null,
   "metadata": {},
   "outputs": [],
   "source": [
    "def reservoir_solver(nx,ny,nz, synapes, M, h, I_app,threshold, **kwargs):\n",
    "    global vrest, vth\n",
    "    N = nx*ny*nz\n",
    "    I_syn = tf.zeros((N,M))\n",
    "    I_total = tf.zeros((N,M))\n",
    "    V_neurons = vrest*tf.ones((N,M))\n",
    "    Spikes = tf.zeros((N,M))\n",
    "    Calcium_conc = tf.zeros((N,M))\n",
    "    weight_mat = tf.ones((N,M))\n",
    "\n",
    "    tau_m, syn_string, h = 32, \"static\", 0.5\n",
    "    \n",
    "    index_prev_spike = -1*(M)*tf.ones((N,))\n",
    "\n",
    "    time = np.array([j*h for j in range(M)])\n",
    "\n",
    "    for t in range(1,M):\n",
    "        I_total = I_app + I_syn\n",
    "        # for j in range(N):\n",
    "            # V_neuron[j,i] = LIF_rsp_one(j, Weight_mat[j], V_neuron[j-1,i], Connect_mat[j], syn_string,\n",
    "            #                            tau_m, Spikes, Delay_mat, I_total[:,i-1], h, time_ind=i,\n",
    "            #                            Calcium_conc = Calcium_conc)\n",
    "        V_neuron, Spike = LIF(V_neurons[:,t-1],I_total[:,t-1],I_total[:,t],N,h,t,index_prev_spike, params)\n",
    "        V_neurons[:,t] = V_neuron\n",
    "        Spikes[:,t] = Spike\n",
    "        \n",
    "        for i in range(N):\n",
    "            if Spike[i] == 1:\n",
    "                index_prev_spike[i] = t\n",
    "\n",
    "                I_syn_additional = tf.zeros((N,M))\n",
    "                neurons = synapes[i][\"connections\"]\n",
    "                neuron_tp = synapes[i][\"Neuron_type\"]\n",
    "                for j in range(len(neurons)):\n",
    "                    I_syn_additional[neurons[j],t:M] = syn_res(syn_string,neuron_tp,t,time,i,neurons[j],Weights[i,j],Delay[i],h,M)  # need to create Delay tensor\n",
    "      \n",
    "        I_syn = I_syn + I_syn_additional\n",
    "\n",
    "    \n",
    "    return V_neurons, Spikes\n",
    "    "
   ]
  },
  {
   "cell_type": "markdown",
   "metadata": {},
   "source": [
    "Models for implementing proposed learning rule **Section IV(c), eqns -- 12, 13, 14**"
   ]
  },
  {
   "cell_type": "code",
   "execution_count": 11,
   "metadata": {
    "code_folding": []
   },
   "outputs": [],
   "source": [
    "def LIF_rsp_one(neuron_id,Weight_mat, Vm_prev, FanIn_list, syn_string, \n",
    "                tau_m, spikeTime_mat, Delay_mat, it_prev, h, time_ind, **kwargs):\n",
    "    global vrest, vth\n",
    "    spike_happened = 0\n",
    "    V_temp = Vm_prev  - Vm_prev/tau_m + it_prev\n",
    "    for i in FanIn_list:\n",
    "        V_temp += Weight_mat[i] * syn_res(syn_string, time_ind, spikeTime_mat[:, i] + Delay_mat[i], h) \n",
    "    if time_ind - spikeTime_mat[neuron_id][-1] <= tf.math.ceil(t_refrac/h):\n",
    "        V_temp = vrest\n",
    "    elif V_temp > vth:\n",
    "        spikeTime_mat[time_ind, neuron_id] = 1\n",
    "        V_temp = vrest\n",
    "    else:\n",
    "        pass\n",
    "    return V_temp\n",
    "    \n",
    "    "
   ]
  },
  {
   "cell_type": "markdown",
   "metadata": {},
   "source": [
    "Weight learning by calculation of Digitized Calcium concentration updation, **Equations 15 , 16 in IEEE paper**<br>\n",
    "Incomplete, have to read section **III(A), III(B)**"
   ]
  },
  {
   "cell_type": "code",
   "execution_count": 12,
   "metadata": {},
   "outputs": [],
   "source": [
    "def Weight_learner(tau_c, last_conc, time_ind, this_neuron_spiked):\n",
    "    new_conc = last_conc - last_conc/tau_c + np.sum(np.heaviside(time_ind - this_neuron_spiked))\n",
    "    ## Need to implement the learning rule here \n",
    "    return new_conc\n",
    "    "
   ]
  }
 ],
 "metadata": {
  "interpreter": {
   "hash": "cb34221c29cbd393528f59737984b7cee90fecb74dfd32a425a37477f31f3c8a"
  },
  "kernelspec": {
   "display_name": "Python 3.9.6 64-bit",
   "name": "python3"
  },
  "language_info": {
   "codemirror_mode": {
    "name": "ipython",
    "version": 3
   },
   "file_extension": ".py",
   "mimetype": "text/x-python",
   "name": "python",
   "nbconvert_exporter": "python",
   "pygments_lexer": "ipython3",
   "version": "3.9.6"
  }
 },
 "nbformat": 4,
 "nbformat_minor": 2
}
